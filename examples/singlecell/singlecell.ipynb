{
 "cells": [
  {
   "cell_type": "code",
   "execution_count": 1,
   "metadata": {},
   "outputs": [
    {
     "name": "stdout",
     "output_type": "stream",
     "text": [
      "\t1 \n"
     ]
    }
   ],
   "source": [
    "from pathlib import Path\n",
    "import bluecellulab\n",
    "from bluecellulab import Cell"
   ]
  },
  {
   "cell_type": "markdown",
   "metadata": {},
   "source": [
    "## Loading the cell\n",
    "\n",
    "A Cell is consisting of the two following components\n",
    "\n",
    "- Electrophysiology - represented as hoc\n",
    "- Morphology (shape) - represented as swc in this tutorial"
   ]
  },
  {
   "cell_type": "code",
   "execution_count": 6,
   "metadata": {},
   "outputs": [],
   "source": [
    "hoc_file = Path(\"hoc\") / \"cADpyr_L2TPC.hoc\"\n",
    "morph_file = Path(\"morphology\") / \"rr110330_C3_idA.swc\""
   ]
  },
  {
   "cell_type": "markdown",
   "metadata": {},
   "source": [
    "Before loading the cell, the cell mechanisms need to be compiled and provided. This compilation step is a performance requirement.\n",
    "\n",
    "Refer to the [MOD2IR: High-Performance Code Generation for a Biophysically Detailed Neuronal Simulation DSL](https://dl.acm.org/doi/abs/10.1145/3578360.3580268) publication to learn more about the compilation process.\n",
    "\n",
    "\n",
    "If the mechanisms are not compiled, you need to run the `nrnivmodl` command to perform the compilation.\n",
    "\n",
    "The mechanisms are already available at the examples directory.\n",
    "\n",
    "With NEURON installed, simply run the following command for the compilation.\n"
   ]
  },
  {
   "cell_type": "code",
   "execution_count": 2,
   "metadata": {
    "vscode": {
     "languageId": "shellscript"
    }
   },
   "outputs": [
    {
     "ename": "SyntaxError",
     "evalue": "invalid syntax (1644918994.py, line 2)",
     "output_type": "error",
     "traceback": [
      "\u001b[0;36m  Cell \u001b[0;32mIn[2], line 2\u001b[0;36m\u001b[0m\n\u001b[0;31m    export BGLIBPY_MOD_LIBRARY_PATH=$PWD/x86_64/.libs/libnrnmech.so\u001b[0m\n\u001b[0m           ^\u001b[0m\n\u001b[0;31mSyntaxError\u001b[0m\u001b[0;31m:\u001b[0m invalid syntax\n"
     ]
    }
   ],
   "source": [
    "!nrnivmodl ../mechanisms"
   ]
  },
  {
   "cell_type": "markdown",
   "metadata": {},
   "source": [
    "This command will compile the mechanisms files. The compilation step"
   ]
  },
  {
   "cell_type": "code",
   "execution_count": 7,
   "metadata": {},
   "outputs": [
    {
     "data": {
      "text/plain": [
       "PosixPath('morphology/rr110330_C3_idA.swc')"
      ]
     },
     "execution_count": 7,
     "metadata": {},
     "output_type": "execute_result"
    }
   ],
   "source": [
    "morph_file"
   ]
  },
  {
   "cell_type": "code",
   "execution_count": 12,
   "metadata": {},
   "outputs": [],
   "source": [
    "from bluecellulab.circuit.circuit_access import EmodelProperties\n",
    "\n",
    "\n",
    "emodel_properties = EmodelProperties(threshold_current=1.1433533430099487,\n",
    "                                        holding_current=1.4146618843078613,\n",
    "                                        ais_scaler=1.4561502933502197)\n",
    "cell = Cell(str(hoc_file), str(morph_file), template_format=\"v6_ais_scaler\", emodel_properties=emodel_properties)"
   ]
  },
  {
   "cell_type": "code",
   "execution_count": 13,
   "metadata": {},
   "outputs": [
    {
     "data": {
      "text/plain": [
       "<bluecellulab.cell.cell.Cell at 0x7fa7d6722200>"
      ]
     },
     "execution_count": 13,
     "metadata": {},
     "output_type": "execute_result"
    }
   ],
   "source": [
    "cell"
   ]
  },
  {
   "cell_type": "code",
   "execution_count": null,
   "metadata": {},
   "outputs": [],
   "source": []
  }
 ],
 "metadata": {
  "kernelspec": {
   "display_name": "bluecellulab310",
   "language": "python",
   "name": "python3"
  },
  "language_info": {
   "codemirror_mode": {
    "name": "ipython",
    "version": 3
   },
   "file_extension": ".py",
   "mimetype": "text/x-python",
   "name": "python",
   "nbconvert_exporter": "python",
   "pygments_lexer": "ipython3",
   "version": "3.10.6"
  },
  "orig_nbformat": 4
 },
 "nbformat": 4,
 "nbformat_minor": 2
}
