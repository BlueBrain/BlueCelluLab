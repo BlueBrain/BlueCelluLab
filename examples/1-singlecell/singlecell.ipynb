{
 "cells": [
  {
   "attachments": {},
   "cell_type": "markdown",
   "metadata": {},
   "source": [
    "# Simulating a single cell\n",
    "\n",
    "This notebook shows how to simulate a single cell using the `Cell` class."
   ]
  },
  {
   "attachments": {},
   "cell_type": "markdown",
   "metadata": {},
   "source": [
    "## Compiling mechanisms"
   ]
  },
  {
   "attachments": {},
   "cell_type": "markdown",
   "metadata": {},
   "source": [
    "Before loading the cell, the cell mechanisms need to be compiled and provided. This compilation step is a performance requirement.\n",
    "\n",
    "Refer to the [MOD2IR: High-Performance Code Generation for a Biophysically Detailed Neuronal Simulation DSL](https://dl.acm.org/doi/abs/10.1145/3578360.3580268) publication to learn more about the compilation process.\n",
    "\n",
    "\n",
    "If the mechanisms are not compiled, you need to run the `nrnivmodl` command to perform the compilation.\n",
    "\n",
    "The mechanisms are already available at the examples directory.\n",
    "\n",
    "With NEURON installed, simply run the following command for the compilation.\n"
   ]
  },
  {
   "cell_type": "code",
   "execution_count": 1,
   "metadata": {
    "vscode": {
     "languageId": "shellscript"
    }
   },
   "outputs": [
    {
     "name": "stdout",
     "output_type": "stream",
     "text": [
      "/home/tuncel/git-repos/BlueCelluLab/examples/1-singlecell\n",
      "Mod files: \"../mechanisms/../mechanisms/CaDynamics_DC0.mod\" \"../mechanisms/../mechanisms/CaDynamics_E2.mod\" \"../mechanisms/../mechanisms/Ca_HVA2.mod\" \"../mechanisms/../mechanisms/Ca_HVA.mod\" \"../mechanisms/../mechanisms/Ca_LVAst.mod\" \"../mechanisms/../mechanisms/Ca.mod\" \"../mechanisms/../mechanisms/DetAMPANMDA.mod\" \"../mechanisms/../mechanisms/DetGABAAB.mod\" \"../mechanisms/../mechanisms/gap.mod\" \"../mechanisms/../mechanisms/GluSynapse.mod\" \"../mechanisms/../mechanisms/Ih.mod\" \"../mechanisms/../mechanisms/Im.mod\" \"../mechanisms/../mechanisms/KdShu2007.mod\" \"../mechanisms/../mechanisms/K_Pst.mod\" \"../mechanisms/../mechanisms/K_Tst.mod\" \"../mechanisms/../mechanisms/Nap_Et2.mod\" \"../mechanisms/../mechanisms/NaTa_t.mod\" \"../mechanisms/../mechanisms/NaTg.mod\" \"../mechanisms/../mechanisms/NaTs2_t.mod\" \"../mechanisms/../mechanisms/netstim_inhpoisson.mod\" \"../mechanisms/../mechanisms/ProbAMPANMDA_EMS.mod\" \"../mechanisms/../mechanisms/ProbGABAAB_EMS.mod\" \"../mechanisms/../mechanisms/SK_E2.mod\" \"../mechanisms/../mechanisms/SKv3_1.mod\" \"../mechanisms/../mechanisms/StochKv3.mod\" \"../mechanisms/../mechanisms/StochKv.mod\" \"../mechanisms/../mechanisms/TTXDynamicsSwitch.mod\" \"../mechanisms/../mechanisms/VecStim.mod\"\n",
      "\n",
      " -> \u001b[32mCompiling\u001b[0m mod_func.cpp\n",
      " => \u001b[32mLINKING\u001b[0m shared library ./libnrnmech.so\n",
      "Successfully created x86_64/special\n"
     ]
    }
   ],
   "source": [
    "!nrnivmodl ../mechanisms"
   ]
  },
  {
   "attachments": {},
   "cell_type": "markdown",
   "metadata": {},
   "source": [
    "**Note**: The compiled mechanisms need to be provided before importing bluecellulab."
   ]
  },
  {
   "cell_type": "code",
   "execution_count": 2,
   "metadata": {},
   "outputs": [],
   "source": [
    "from pathlib import Path\n",
    "\n",
    "from matplotlib import pyplot as plt\n",
    "from matplotlib.pyplot import get_cmap\n",
    "\n",
    "from bluecellulab import Cell, Simulation\n",
    "from bluecellulab.circuit.circuit_access import EmodelProperties\n",
    "\n",
    "from bluecellulab.stimulus.circuit_stimulus_definitions import OrnsteinUhlenbeck, ShotNoise\n",
    "from bluecellulab import RNGSettings"
   ]
  },
  {
   "attachments": {},
   "cell_type": "markdown",
   "metadata": {},
   "source": [
    "## Loading the cell\n",
    "\n",
    "A Cell is consisting of the two following components\n",
    "\n",
    "- Electrophysiology - represented as hoc\n",
    "- Morphology (shape) - represented as asc in this tutorial"
   ]
  },
  {
   "cell_type": "code",
   "execution_count": null,
   "metadata": {},
   "outputs": [],
   "source": [
    "hoc_file = Path(\"hoc\") / \"cADpyr_L2TPC.hoc\"\n",
    "morph_file = Path(\"morphology\") / \"rr110330_C3_idA.asc\""
   ]
  },
  {
   "attachments": {},
   "cell_type": "markdown",
   "metadata": {},
   "source": [
    "This command will compile the mechanisms files. The compilation step"
   ]
  },
  {
   "cell_type": "code",
   "execution_count": null,
   "metadata": {},
   "outputs": [],
   "source": [
    "morph_file"
   ]
  },
  {
   "cell_type": "code",
   "execution_count": null,
   "metadata": {},
   "outputs": [],
   "source": [
    "emodel_properties = EmodelProperties(threshold_current=1.1433533430099487,\n",
    "                                     holding_current=1.4146618843078613,\n",
    "                                     AIS_scaler=1.4561502933502197)\n",
    "cell = Cell(hoc_file, morph_file, template_format=\"v6\", emodel_properties=emodel_properties)"
   ]
  },
  {
   "cell_type": "code",
   "execution_count": null,
   "metadata": {},
   "outputs": [],
   "source": [
    "cell"
   ]
  },
  {
   "attachments": {},
   "cell_type": "markdown",
   "metadata": {},
   "source": [
    "### Exploring cell's attributes\n",
    "\n",
    "Morphology related attributes such as the Radius (Ra) of a section can be accessed as follows:"
   ]
  },
  {
   "cell_type": "code",
   "execution_count": null,
   "metadata": {},
   "outputs": [],
   "source": [
    "cell.soma.Ra"
   ]
  },
  {
   "attachments": {},
   "cell_type": "markdown",
   "metadata": {},
   "source": [
    "To see the children of a section, you can use the `children` attribute."
   ]
  },
  {
   "cell_type": "code",
   "execution_count": null,
   "metadata": {},
   "outputs": [],
   "source": [
    "cell.soma.children()"
   ]
  },
  {
   "attachments": {},
   "cell_type": "markdown",
   "metadata": {},
   "source": [
    "Properties of other sections such as length(L) can also be displayed as follows:"
   ]
  },
  {
   "cell_type": "code",
   "execution_count": null,
   "metadata": {},
   "outputs": [],
   "source": [
    "cell.apical[0].Ra"
   ]
  },
  {
   "cell_type": "code",
   "execution_count": null,
   "metadata": {},
   "outputs": [],
   "source": [
    "cell.apical[0].L"
   ]
  },
  {
   "attachments": {},
   "cell_type": "markdown",
   "metadata": {},
   "source": [
    "Electrophysiological attributes such as the holding and threshold currents of the cell can be accessed as follows:"
   ]
  },
  {
   "cell_type": "code",
   "execution_count": null,
   "metadata": {},
   "outputs": [],
   "source": [
    "cell.hypamp  # holding current"
   ]
  },
  {
   "cell_type": "code",
   "execution_count": null,
   "metadata": {},
   "outputs": [],
   "source": [
    "cell.threshold"
   ]
  },
  {
   "attachments": {},
   "cell_type": "markdown",
   "metadata": {},
   "source": [
    "## Simulation\n",
    "\n",
    "In this step we will apply some stimulation to the cell and run a simulation."
   ]
  },
  {
   "attachments": {},
   "cell_type": "markdown",
   "metadata": {},
   "source": [
    "Here we create a Simulation object and add the cell we wish to simulate to it."
   ]
  },
  {
   "cell_type": "code",
   "execution_count": null,
   "metadata": {},
   "outputs": [],
   "source": [
    "sim = Simulation()\n",
    "sim.add_cell(cell)"
   ]
  },
  {
   "attachments": {},
   "cell_type": "markdown",
   "metadata": {},
   "source": [
    "### Adding a step current\n",
    "\n",
    "Here a step current is set to be given to the cell during the simulation."
   ]
  },
  {
   "cell_type": "code",
   "execution_count": null,
   "metadata": {},
   "outputs": [],
   "source": [
    "cell.add_step(start_time=15.0, stop_time=25.0, level=1.0)"
   ]
  },
  {
   "attachments": {},
   "cell_type": "markdown",
   "metadata": {},
   "source": [
    "To run the cell, we call the `run` method of the simulation object."
   ]
  },
  {
   "cell_type": "code",
   "execution_count": null,
   "metadata": {},
   "outputs": [],
   "source": [
    "sim.run(45, cvode=False)"
   ]
  },
  {
   "attachments": {},
   "cell_type": "markdown",
   "metadata": {},
   "source": [
    "Retrieving the time and voltage values of the simulation is done as follows:"
   ]
  },
  {
   "cell_type": "code",
   "execution_count": null,
   "metadata": {},
   "outputs": [],
   "source": [
    "time, voltage = cell.get_time(), cell.get_soma_voltage()"
   ]
  },
  {
   "attachments": {},
   "cell_type": "markdown",
   "metadata": {},
   "source": [
    "**Note**: To retrieve the voltage we used `cell.get_soma_voltage()`. In the next steps we will see how to retrieve the voltage from other sections."
   ]
  },
  {
   "cell_type": "code",
   "execution_count": null,
   "metadata": {},
   "outputs": [],
   "source": [
    "plt.plot(time, voltage)\n",
    "plt.xlabel(\"Time (ms)\")\n",
    "plt.ylabel(\"Voltage (mV)\")"
   ]
  },
  {
   "attachments": {},
   "cell_type": "markdown",
   "metadata": {},
   "source": [
    "Here at the beginning we see a single spike and then we can clearly observe the impact of the step current we injected between 15 and 25 ms."
   ]
  },
  {
   "attachments": {},
   "cell_type": "markdown",
   "metadata": {},
   "source": [
    "### Adding a more complex stimulation\n",
    "\n",
    "Besides the step current, we can also add more complex stimulation to the cell.\n",
    "In this example we will add a Poisson shot noise current to the cell."
   ]
  },
  {
   "attachments": {},
   "cell_type": "markdown",
   "metadata": {},
   "source": [
    "Here we create a new Cell instance since the underlying NEURON implementation leaves some state after adding stimulus to the cell.\n",
    "\n",
    "We do not want the previously injected step current to interfere with the new stimulus."
   ]
  },
  {
   "cell_type": "code",
   "execution_count": null,
   "metadata": {},
   "outputs": [],
   "source": [
    "cell = Cell(hoc_file, morph_file, template_format=\"v6\", emodel_properties=emodel_properties)\n",
    "sim = Simulation()\n",
    "sim.add_cell(cell)"
   ]
  },
  {
   "attachments": {},
   "cell_type": "markdown",
   "metadata": {},
   "source": [
    "Here to define the ShotNoise stimulus, we need to create an object of type ShotNoise. The attributes of the stimulus object (ShotNoise object) are checked via a dynamic type checker to early detect errors and misuses."
   ]
  },
  {
   "cell_type": "code",
   "execution_count": null,
   "metadata": {},
   "outputs": [],
   "source": [
    "shotnoise_stimulus = ShotNoise(\n",
    "    target=\"single-cell\", delay=15, duration=20,\n",
    "    rise_time=0.4, decay_time=4, rate=2E3, amp_mean=40E-3, amp_var=16E-4,\n",
    "    seed=3899663\n",
    ")"
   ]
  },
  {
   "attachments": {},
   "cell_type": "markdown",
   "metadata": {},
   "source": [
    "Since ShotNoise is a stochastic signal, we need to set the rng_settings attribute of the cell."
   ]
  },
  {
   "cell_type": "code",
   "execution_count": null,
   "metadata": {},
   "outputs": [],
   "source": [
    "rng_obj = RNGSettings.get_instance().set_seeds(base_seed=42)"
   ]
  },
  {
   "attachments": {},
   "cell_type": "markdown",
   "metadata": {},
   "source": [
    "Here we add the shotnoise to the middle point (denoted by 0.5) of soma "
   ]
  },
  {
   "cell_type": "code",
   "execution_count": null,
   "metadata": {},
   "outputs": [],
   "source": [
    "time_vec, stim_vec = cell.add_replay_shotnoise(\n",
    "    cell.soma, 0.5,\n",
    "    shotnoise_stimulus,\n",
    "    shotnoise_stim_count=3)\n",
    "time_vec = time_vec.to_python()\n",
    "stim_vec = stim_vec.to_python()"
   ]
  },
  {
   "attachments": {},
   "cell_type": "markdown",
   "metadata": {},
   "source": [
    "Here is the current we injected to the cell."
   ]
  },
  {
   "cell_type": "code",
   "execution_count": null,
   "metadata": {},
   "outputs": [],
   "source": [
    "plt.plot(time_vec, stim_vec)\n",
    "plt.xlabel(\"Time (ms)\")\n",
    "plt.ylabel(\"Current (nA)\")"
   ]
  },
  {
   "cell_type": "code",
   "execution_count": null,
   "metadata": {},
   "outputs": [],
   "source": [
    "sim.cells"
   ]
  },
  {
   "cell_type": "code",
   "execution_count": null,
   "metadata": {},
   "outputs": [],
   "source": [
    "sim.cells[0] is cell"
   ]
  },
  {
   "cell_type": "code",
   "execution_count": null,
   "metadata": {},
   "outputs": [],
   "source": [
    "sim.run(45, cvode=False)\n",
    "time, voltage = cell.get_time(), cell.get_soma_voltage()"
   ]
  },
  {
   "attachments": {},
   "cell_type": "markdown",
   "metadata": {},
   "source": [
    "The figure below shows how the cell responded to the shotnoise. \n",
    "\n",
    "As in the previous stimulus, there is a single spike at the beginning and the impact of shotnoise begins at 15 ms and lasts for 20ms.\n",
    "\n",
    "Compared to the previous voltage figure, here we can tell that the shotnoise has a different effect on the cell."
   ]
  },
  {
   "cell_type": "code",
   "execution_count": null,
   "metadata": {},
   "outputs": [],
   "source": [
    "plt.plot(time, voltage)\n",
    "plt.xlabel(\"Time (ms)\")\n",
    "plt.ylabel(\"Voltage (mV)\")"
   ]
  },
  {
   "attachments": {},
   "cell_type": "markdown",
   "metadata": {},
   "source": [
    "### Using the spike detector\n",
    "\n",
    "The spike detector can be used to detect the exact time of the spikes."
   ]
  },
  {
   "cell_type": "code",
   "execution_count": null,
   "metadata": {},
   "outputs": [],
   "source": [
    "cell = Cell(hoc_file, morph_file, template_format=\"v6\", emodel_properties=emodel_properties)\n",
    "tstim = cell.add_ramp(start_time=10.0, stop_time=30.0, start_level=0.5, stop_level=4.0)\n",
    "sim = Simulation()\n",
    "sim.add_cell(cell)"
   ]
  },
  {
   "attachments": {},
   "cell_type": "markdown",
   "metadata": {},
   "source": [
    "Before running the simulation, we need to add the spike detector via `start_recording_spikes` to the cell and set the threshold voltage.\n",
    "\n",
    "Above the threshold is considered a spike. \n",
    "\n",
    "`get_recorded_spikes` returns the time of the spikes from the section \"soma\"."
   ]
  },
  {
   "cell_type": "code",
   "execution_count": null,
   "metadata": {},
   "outputs": [],
   "source": [
    "cell.start_recording_spikes(None, location=\"soma\", threshold=-10)\n",
    "sim.run(45, cvode=False)\n",
    "spikes = cell.get_recorded_spikes(location=\"soma\", threshold=-10)\n",
    "time, voltage = cell.get_time(), cell.get_soma_voltage()"
   ]
  },
  {
   "cell_type": "code",
   "execution_count": null,
   "metadata": {},
   "outputs": [],
   "source": [
    "print(f\"spike times: {spikes}\")"
   ]
  },
  {
   "attachments": {},
   "cell_type": "markdown",
   "metadata": {},
   "source": [
    "The detected spikes are denoted as red dashed lines in the voltage plot."
   ]
  },
  {
   "cell_type": "code",
   "execution_count": null,
   "metadata": {},
   "outputs": [],
   "source": [
    "plt.plot(time, voltage)\n",
    "plt.xlabel(\"Time (ms)\")\n",
    "plt.ylabel(\"Voltage (mV)\")\n",
    "# add spikes to the plot as dashed lines\n",
    "for spike in spikes:\n",
    "    plt.axvline(spike, c=\"r\", linestyle=\"--\")"
   ]
  },
  {
   "attachments": {},
   "cell_type": "markdown",
   "metadata": {},
   "source": [
    "### Recording from another section\n",
    "\n",
    "Besides soma, the voltage can be recorded from other sections as well.\n",
    "Here we record from the axon initial segment (ais) and plot the voltage from both soma and AIS."
   ]
  },
  {
   "cell_type": "code",
   "execution_count": null,
   "metadata": {},
   "outputs": [],
   "source": [
    "cell = Cell(hoc_file, morph_file, template_format=\"v6\", emodel_properties=emodel_properties)\n",
    "cell.add_ramp(start_time=10.0, stop_time=30.0, start_level=0.5, stop_level=4.0)\n",
    "sim = Simulation()\n",
    "sim.add_cell(cell)\n",
    "cell.add_ais_recording(dt=cell.record_dt)"
   ]
  },
  {
   "cell_type": "code",
   "execution_count": null,
   "metadata": {},
   "outputs": [],
   "source": [
    "sim.run(45, cvode=False)"
   ]
  },
  {
   "cell_type": "code",
   "execution_count": null,
   "metadata": {},
   "outputs": [],
   "source": [
    "time = cell.get_time()\n",
    "soma_voltage = cell.get_soma_voltage()\n",
    "ais_voltage = cell.get_ais_voltage()"
   ]
  },
  {
   "attachments": {},
   "cell_type": "markdown",
   "metadata": {},
   "source": [
    "The dotted line shows the recordings from the axon initial segment."
   ]
  },
  {
   "cell_type": "code",
   "execution_count": null,
   "metadata": {},
   "outputs": [],
   "source": [
    "plt.plot(time, soma_voltage, label=\"soma\")\n",
    "plt.plot(time, ais_voltage, label=\"ais\", linestyle=\"--\")\n",
    "plt.legend()\n",
    "plt.xlabel(\"Time (ms)\")\n",
    "plt.ylabel(\"Voltage (mV)\")"
   ]
  },
  {
   "attachments": {},
   "cell_type": "markdown",
   "metadata": {},
   "source": [
    "### Recording from all sections\n",
    "\n",
    "In this step we will go one level beyond and record from every section of the neuron.\n",
    "\n",
    "This time we will add an Ornstein-Uhlenbeck process current to the cell."
   ]
  },
  {
   "cell_type": "code",
   "execution_count": null,
   "metadata": {},
   "outputs": [],
   "source": [
    "cell = Cell(hoc_file, morph_file, template_format=\"v6\", emodel_properties=emodel_properties)\n",
    "stimulus = OrnsteinUhlenbeck(\n",
    "            target=\"single-cell\", delay=15, duration=20,\n",
    "            tau=2.8, sigma=0.64, mean=0.729, mode=\"current_clamp\", dt=0.25, seed=1\n",
    "        )\n",
    "rng_obj = RNGSettings.get_instance().set_seeds(base_seed=42)\n",
    "sim = Simulation()\n",
    "sim.add_cell(cell)"
   ]
  },
  {
   "attachments": {},
   "cell_type": "markdown",
   "metadata": {},
   "source": [
    "With `add_allsections_voltagerecordings` we enable recording from every section of the cell."
   ]
  },
  {
   "cell_type": "code",
   "execution_count": null,
   "metadata": {},
   "outputs": [],
   "source": [
    "cell.add_allsections_voltagerecordings()"
   ]
  },
  {
   "cell_type": "code",
   "execution_count": null,
   "metadata": {},
   "outputs": [],
   "source": [
    "time_vec, stim_vec = cell.add_ornstein_uhlenbeck(cell.soma, 0.5, stimulus, stim_count=1)\n"
   ]
  },
  {
   "attachments": {},
   "cell_type": "markdown",
   "metadata": {},
   "source": [
    "The Ornstein-Uhlenbeck signal is plotted below."
   ]
  },
  {
   "cell_type": "code",
   "execution_count": null,
   "metadata": {},
   "outputs": [],
   "source": [
    "plt.plot(time_vec, stim_vec)\n",
    "plt.xlabel(\"Time (ms)\")\n",
    "plt.ylabel(\"Current (nA)\")"
   ]
  },
  {
   "cell_type": "code",
   "execution_count": null,
   "metadata": {},
   "outputs": [],
   "source": [
    "sim.run(45, cvode=False)"
   ]
  },
  {
   "attachments": {},
   "cell_type": "markdown",
   "metadata": {},
   "source": [
    "To get the recorded voltage from all sections, we use `get_allsections_voltage`."
   ]
  },
  {
   "cell_type": "code",
   "execution_count": null,
   "metadata": {},
   "outputs": [],
   "source": [
    "recordings = cell.get_allsections_voltagerecordings()\n",
    "time = cell.get_time()"
   ]
  },
  {
   "attachments": {},
   "cell_type": "markdown",
   "metadata": {},
   "source": [
    "Here in order to display how the voltage changes in different sections, we plot the voltage of the soma and its subsections.\n",
    "\n",
    "We use the `subtree` method to get the subsections."
   ]
  },
  {
   "cell_type": "code",
   "execution_count": null,
   "metadata": {},
   "outputs": [],
   "source": [
    "subtree = [x.name() for x in cell.soma.subtree()][:10]"
   ]
  },
  {
   "cell_type": "code",
   "execution_count": null,
   "metadata": {},
   "outputs": [],
   "source": [
    "# Define the figure size\n",
    "plt.figure(figsize=(8, 8))\n",
    "\n",
    "# Define colormap\n",
    "color_map = get_cmap('viridis', len(subtree))\n",
    "\n",
    "# plot the voltage recordings from the subtree\n",
    "for i, section in enumerate(subtree):\n",
    "    voltage = recordings[section]\n",
    "    plt.plot(time, voltage, label=section.split(\".\")[-1], color=color_map(i))\n",
    "    \n",
    "# display legend only once\n",
    "plt.legend(loc=\"upper right\", bbox_to_anchor=(1.3, 1.0))\n",
    "plt.xlabel(\"Time (ms)\")\n",
    "plt.ylabel(\"Voltage (mV)\")\n",
    "plt.show()\n"
   ]
  },
  {
   "attachments": {},
   "cell_type": "markdown",
   "metadata": {},
   "source": [
    "In the plot above, the colour intensity is given by the order of subtree."
   ]
  }
 ],
 "metadata": {
  "kernelspec": {
   "display_name": "bluecellulab310",
   "language": "python",
   "name": "python3"
  },
  "language_info": {
   "codemirror_mode": {
    "name": "ipython",
    "version": 3
   },
   "file_extension": ".py",
   "mimetype": "text/x-python",
   "name": "python",
   "nbconvert_exporter": "python",
   "pygments_lexer": "ipython3",
   "version": "3.11.7"
  },
  "orig_nbformat": 4
 },
 "nbformat": 4,
 "nbformat_minor": 2
}
