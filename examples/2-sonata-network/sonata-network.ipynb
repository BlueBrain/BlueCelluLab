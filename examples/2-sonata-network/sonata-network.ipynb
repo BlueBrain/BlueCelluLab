{
 "cells": [
  {
   "attachments": {},
   "cell_type": "markdown",
   "metadata": {},
   "source": [
    "# Simulating a SONATA Network\n",
    "\n",
    "This notebook shows how to simulate single cell or a group of cells from a SONATA network.\n",
    "\n",
    "SONATA is a data format developed jointly by the Allen Institute for Brain Science (AIBS) and the Blue Brain Project (BBP) to enable standardisation and interoperability of the neuronal network models and simulation. See the [SONATA-extension documentation](https://sonata-extension.readthedocs.io/) for more details on the format and how we use it."
   ]
  },
  {
   "attachments": {},
   "cell_type": "markdown",
   "metadata": {},
   "source": [
    "## Compiling mechanisms\n",
    "\n",
    "Just like in the previous tutorial, we again need to compile the mechanisms."
   ]
  },
  {
   "cell_type": "code",
   "execution_count": 1,
   "metadata": {
    "vscode": {
     "languageId": "shellscript"
    }
   },
   "outputs": [
    {
     "name": "stdout",
     "output_type": "stream",
     "text": [
      "/home/tuncel/git-repos/BlueCelluLab/examples/2-sonata-network\n",
      "Mod files: \"../mechanisms/../mechanisms/CaDynamics_DC0.mod\" \"../mechanisms/../mechanisms/CaDynamics_E2.mod\" \"../mechanisms/../mechanisms/Ca_HVA2.mod\" \"../mechanisms/../mechanisms/Ca_HVA.mod\" \"../mechanisms/../mechanisms/Ca_LVAst.mod\" \"../mechanisms/../mechanisms/Ca.mod\" \"../mechanisms/../mechanisms/DetAMPANMDA.mod\" \"../mechanisms/../mechanisms/DetGABAAB.mod\" \"../mechanisms/../mechanisms/gap.mod\" \"../mechanisms/../mechanisms/GluSynapse.mod\" \"../mechanisms/../mechanisms/Ih.mod\" \"../mechanisms/../mechanisms/Im.mod\" \"../mechanisms/../mechanisms/KdShu2007.mod\" \"../mechanisms/../mechanisms/K_Pst.mod\" \"../mechanisms/../mechanisms/K_Tst.mod\" \"../mechanisms/../mechanisms/Nap_Et2.mod\" \"../mechanisms/../mechanisms/NaTa_t.mod\" \"../mechanisms/../mechanisms/NaTg.mod\" \"../mechanisms/../mechanisms/NaTs2_t.mod\" \"../mechanisms/../mechanisms/netstim_inhpoisson.mod\" \"../mechanisms/../mechanisms/ProbAMPANMDA_EMS.mod\" \"../mechanisms/../mechanisms/ProbGABAAB_EMS.mod\" \"../mechanisms/../mechanisms/SK_E2.mod\" \"../mechanisms/../mechanisms/SKv3_1.mod\" \"../mechanisms/../mechanisms/StochKv3.mod\" \"../mechanisms/../mechanisms/StochKv.mod\" \"../mechanisms/../mechanisms/TTXDynamicsSwitch.mod\" \"../mechanisms/../mechanisms/VecStim.mod\"\n",
      "\n",
      " -> \u001b[32mCompiling\u001b[0m mod_func.cpp\n",
      " => \u001b[32mLINKING\u001b[0m shared library ./libnrnmech.so\n",
      "Successfully created x86_64/special\n"
     ]
    }
   ],
   "source": [
    "!nrnivmodl ../mechanisms"
   ]
  },
  {
   "attachments": {},
   "cell_type": "markdown",
   "metadata": {},
   "source": [
    "**Note**: The compiled mechanisms need to be provided before importing bluecellulab."
   ]
  },
  {
   "cell_type": "code",
   "execution_count": 2,
   "metadata": {},
   "outputs": [
    {
     "name": "stdout",
     "output_type": "stream",
     "text": [
      "\t1 \n",
      "Imported NEURON from: /home/tuncel/.virtualenvs/py311-bluecellulab/lib/python3.11/site-packages/neuron/__init__.py\n",
      "Mod lib:  /home/tuncel/git-repos/BlueCelluLab/examples/2-sonata-network/x86_64\n"
     ]
    }
   ],
   "source": [
    "import json\n",
    "from pathlib import Path\n",
    "\n",
    "from matplotlib import pyplot as plt\n",
    "\n",
    "from bluecellulab import SSim"
   ]
  },
  {
   "attachments": {},
   "cell_type": "markdown",
   "metadata": {},
   "source": [
    "Here we have a simulation config as an input.\n",
    "\n",
    "This is the configuration file recognised by the [neurodamus](https://github.com/BlueBrain/neurodamus/) large-scale neuronal network simulator.\n",
    "\n",
    "Bluecellulab reads the same config as neurodamus since one common usage of bluecellulab is to repeat a subset of the large-scale neurodamus simulation to enable experimentation on a small group of cells within the large network."
   ]
  },
  {
   "cell_type": "code",
   "execution_count": 3,
   "metadata": {},
   "outputs": [],
   "source": [
    "simulation_config = Path(\"sim_quick_scx_sonata_multicircuit\") / \"simulation_config_hypamp.json\""
   ]
  },
  {
   "attachments": {},
   "cell_type": "markdown",
   "metadata": {},
   "source": [
    "Now we will see the contents of the input simulation config file."
   ]
  },
  {
   "cell_type": "code",
   "execution_count": 4,
   "metadata": {},
   "outputs": [],
   "source": [
    "with open(simulation_config) as f:\n",
    "    simulation_config_dict = json.load(f)"
   ]
  },
  {
   "attachments": {},
   "cell_type": "markdown",
   "metadata": {},
   "source": [
    "Here is all simulation config entries."
   ]
  },
  {
   "cell_type": "code",
   "execution_count": 5,
   "metadata": {},
   "outputs": [
    {
     "name": "stdout",
     "output_type": "stream",
     "text": [
      "{\n",
      "    \"manifest\": {\n",
      "        \"$OUTPUT_DIR\": \".\"\n",
      "    },\n",
      "    \"run\": {\n",
      "        \"tstop\": 50.0,\n",
      "        \"dt\": 0.025,\n",
      "        \"random_seed\": 1\n",
      "    },\n",
      "    \"conditions\": {\n",
      "        \"v_init\": -65\n",
      "    },\n",
      "    \"target_simulator\": \"NEURON\",\n",
      "    \"network\": \"circuit_sonata.json\",\n",
      "    \"node_set\": \"Mosaic_A\",\n",
      "    \"output\": {\n",
      "        \"output_dir\": \"$OUTPUT_DIR/output_sonata_hypamp\",\n",
      "        \"spikes_file\": \"out.h5\",\n",
      "        \"spikes_sort_order\": \"by_time\"\n",
      "    },\n",
      "    \"inputs\": {\n",
      "        \"hypamp_mosaic\": {\n",
      "            \"module\": \"hyperpolarizing\",\n",
      "            \"input_type\": \"current_clamp\",\n",
      "            \"delay\": 0.0,\n",
      "            \"duration\": 4000.0,\n",
      "            \"node_set\": \"Mosaic_A\"\n",
      "        }\n",
      "    },\n",
      "    \"reports\": {\n",
      "        \"soma\": {\n",
      "            \"cells\": \"Mosaic_A\",\n",
      "            \"variable_name\": \"v\",\n",
      "            \"type\": \"compartment\",\n",
      "            \"dt\": 1.0,\n",
      "            \"start_time\": 0.0,\n",
      "            \"end_time\": 20.0,\n",
      "            \"sections\": \"soma\",\n",
      "            \"compartments\": \"center\"\n",
      "        }\n",
      "    }\n",
      "}\n"
     ]
    }
   ],
   "source": [
    "print(json.dumps(simulation_config_dict, indent=4))"
   ]
  },
  {
   "attachments": {},
   "cell_type": "markdown",
   "metadata": {},
   "source": [
    "The input section represents the input stimuli to be given to target node sets (cell groups).\n",
    "Here in this simulation we only have a single stimulus called `hypamp_mosaic`. \n",
    "\n",
    "`module`: \"hyperpolarizing\" means it will use the defined hyperpolarizing stimulus of bluecellulab.\n",
    "\n",
    "`input_type`: it tells that the input will be given as a current clamp (some other stimulus support also conductance clamps, see docs for more \n",
    "information).\n",
    "\n",
    "`delay` and `duration` are the parameters of the input stimulus.\n",
    "\n",
    "`node_set` denotes which nodes will be affected by this stimulus."
   ]
  },
  {
   "cell_type": "code",
   "execution_count": 6,
   "metadata": {},
   "outputs": [
    {
     "name": "stdout",
     "output_type": "stream",
     "text": [
      "{\n",
      "    \"hypamp_mosaic\": {\n",
      "        \"module\": \"hyperpolarizing\",\n",
      "        \"input_type\": \"current_clamp\",\n",
      "        \"delay\": 0.0,\n",
      "        \"duration\": 4000.0,\n",
      "        \"node_set\": \"Mosaic_A\"\n",
      "    }\n",
      "}\n"
     ]
    }
   ],
   "source": [
    "print(json.dumps(simulation_config_dict[\"inputs\"], indent=4))"
   ]
  },
  {
   "attachments": {},
   "cell_type": "markdown",
   "metadata": {},
   "source": [
    "Here the simulation is loaded using the SSim object."
   ]
  },
  {
   "cell_type": "code",
   "execution_count": 7,
   "metadata": {},
   "outputs": [],
   "source": [
    "sim = SSim(simulation_config)"
   ]
  },
  {
   "attachments": {},
   "cell_type": "markdown",
   "metadata": {},
   "source": [
    "The input described in the simulation config is parsed in the Hyperpolarizing stimulus object."
   ]
  },
  {
   "cell_type": "code",
   "execution_count": 8,
   "metadata": {},
   "outputs": [
    {
     "data": {
      "text/plain": [
       "[Hyperpolarizing(target='Mosaic_A', delay=0.0, duration=4000.0)]"
      ]
     },
     "execution_count": 8,
     "metadata": {},
     "output_type": "execute_result"
    }
   ],
   "source": [
    "stimuli_entries = sim.circuit_access.config.get_all_stimuli_entries()\n",
    "stimuli_entries"
   ]
  },
  {
   "cell_type": "code",
   "execution_count": 9,
   "metadata": {},
   "outputs": [
    {
     "data": {
      "text/plain": [
       "Hyperpolarizing(target='Mosaic_A', delay=0.0, duration=4000.0)"
      ]
     },
     "execution_count": 9,
     "metadata": {},
     "output_type": "execute_result"
    }
   ],
   "source": [
    "stimulus = stimuli_entries[0]\n",
    "stimulus"
   ]
  },
  {
   "attachments": {},
   "cell_type": "markdown",
   "metadata": {},
   "source": [
    "At this point, we will specify the cells that we are interested in and bluecellulab only will simulate those cells.\n",
    "\n",
    "One convenient way of selecting the cells is through the use of [SNAP](https://github.com/BlueBrain/snap/) library.\n",
    "\n",
    "SNAP is a Python library for accessing BlueBrain circuit models represented in SONATA format. It enables detailed querying of the cells and their connections."
   ]
  },
  {
   "cell_type": "code",
   "execution_count": 10,
   "metadata": {},
   "outputs": [],
   "source": [
    "from bluepysnap import Simulation as snap_sim"
   ]
  },
  {
   "attachments": {},
   "cell_type": "markdown",
   "metadata": {},
   "source": [
    "Here we load the same simulation config using snap. We will look at the contents of the SONATA nodes and select the cells we wish to simulate."
   ]
  },
  {
   "cell_type": "code",
   "execution_count": 11,
   "metadata": {},
   "outputs": [],
   "source": [
    "snap_access = snap_sim(simulation_config)"
   ]
  },
  {
   "attachments": {},
   "cell_type": "markdown",
   "metadata": {},
   "source": [
    "The simulation_config was specifying \"Mosaic_A\" as the node_set. Let's check what cells does it contain.\n",
    "\n",
    "Here this pandas table shows that NodeA is a population that contains 3 nodes in it."
   ]
  },
  {
   "cell_type": "code",
   "execution_count": 12,
   "metadata": {},
   "outputs": [
    {
     "data": {
      "text/html": [
       "<div>\n",
       "<style scoped>\n",
       "    .dataframe tbody tr th:only-of-type {\n",
       "        vertical-align: middle;\n",
       "    }\n",
       "\n",
       "    .dataframe tbody tr th {\n",
       "        vertical-align: top;\n",
       "    }\n",
       "\n",
       "    .dataframe thead th {\n",
       "        text-align: right;\n",
       "    }\n",
       "</style>\n",
       "<table border=\"1\" class=\"dataframe\">\n",
       "  <thead>\n",
       "    <tr style=\"text-align: right;\">\n",
       "      <th></th>\n",
       "      <th></th>\n",
       "      <th>@dynamics:AIS_scaler</th>\n",
       "      <th>@dynamics:holding_current</th>\n",
       "      <th>@dynamics:threshold_current</th>\n",
       "      <th>etype</th>\n",
       "      <th>hemisphere</th>\n",
       "      <th>layer</th>\n",
       "      <th>minis</th>\n",
       "      <th>model_template</th>\n",
       "      <th>model_type</th>\n",
       "      <th>morph_class</th>\n",
       "      <th>...</th>\n",
       "      <th>mtype</th>\n",
       "      <th>orientation_w</th>\n",
       "      <th>orientation_x</th>\n",
       "      <th>orientation_y</th>\n",
       "      <th>orientation_z</th>\n",
       "      <th>region</th>\n",
       "      <th>synapse_class</th>\n",
       "      <th>x</th>\n",
       "      <th>y</th>\n",
       "      <th>z</th>\n",
       "    </tr>\n",
       "    <tr>\n",
       "      <th>population</th>\n",
       "      <th>node_ids</th>\n",
       "      <th></th>\n",
       "      <th></th>\n",
       "      <th></th>\n",
       "      <th></th>\n",
       "      <th></th>\n",
       "      <th></th>\n",
       "      <th></th>\n",
       "      <th></th>\n",
       "      <th></th>\n",
       "      <th></th>\n",
       "      <th></th>\n",
       "      <th></th>\n",
       "      <th></th>\n",
       "      <th></th>\n",
       "      <th></th>\n",
       "      <th></th>\n",
       "      <th></th>\n",
       "      <th></th>\n",
       "      <th></th>\n",
       "      <th></th>\n",
       "      <th></th>\n",
       "    </tr>\n",
       "  </thead>\n",
       "  <tbody>\n",
       "    <tr>\n",
       "      <th rowspan=\"3\" valign=\"top\">NodeA</th>\n",
       "      <th>0</th>\n",
       "      <td>1.264556</td>\n",
       "      <td>1.944669</td>\n",
       "      <td>1.118274</td>\n",
       "      <td>dSTUT</td>\n",
       "      <td>right</td>\n",
       "      <td>LA</td>\n",
       "      <td>79.915855</td>\n",
       "      <td>hoc:cNAC_L23BTC</td>\n",
       "      <td>biophysical</td>\n",
       "      <td>PYR</td>\n",
       "      <td>...</td>\n",
       "      <td>L4_PC</td>\n",
       "      <td>-0.233117</td>\n",
       "      <td>0.136089</td>\n",
       "      <td>-0.825741</td>\n",
       "      <td>0.556314</td>\n",
       "      <td>RB</td>\n",
       "      <td>INH</td>\n",
       "      <td>97.627007</td>\n",
       "      <td>89.766365</td>\n",
       "      <td>-124.825577</td>\n",
       "    </tr>\n",
       "    <tr>\n",
       "      <th>1</th>\n",
       "      <td>1.774234</td>\n",
       "      <td>1.521848</td>\n",
       "      <td>1.639921</td>\n",
       "      <td>dSTUT</td>\n",
       "      <td>right</td>\n",
       "      <td>LB</td>\n",
       "      <td>46.147938</td>\n",
       "      <td>hoc:cNAC_L23BTC</td>\n",
       "      <td>biophysical</td>\n",
       "      <td>PYR</td>\n",
       "      <td>...</td>\n",
       "      <td>L4_MC</td>\n",
       "      <td>0.583450</td>\n",
       "      <td>0.851193</td>\n",
       "      <td>-0.959563</td>\n",
       "      <td>0.740024</td>\n",
       "      <td>RB</td>\n",
       "      <td>EXC</td>\n",
       "      <td>430.378723</td>\n",
       "      <td>-152.690399</td>\n",
       "      <td>783.546021</td>\n",
       "    </tr>\n",
       "    <tr>\n",
       "      <th>2</th>\n",
       "      <td>1.456150</td>\n",
       "      <td>1.414662</td>\n",
       "      <td>1.143353</td>\n",
       "      <td>dNAC</td>\n",
       "      <td>left</td>\n",
       "      <td>LB</td>\n",
       "      <td>78.052917</td>\n",
       "      <td>hoc:cADpyr_L2TPC</td>\n",
       "      <td>biophysical</td>\n",
       "      <td>PYR</td>\n",
       "      <td>...</td>\n",
       "      <td>L4_MC</td>\n",
       "      <td>0.057790</td>\n",
       "      <td>-0.857928</td>\n",
       "      <td>0.665240</td>\n",
       "      <td>0.957237</td>\n",
       "      <td>RB</td>\n",
       "      <td>INH</td>\n",
       "      <td>205.526749</td>\n",
       "      <td>291.788239</td>\n",
       "      <td>927.325500</td>\n",
       "    </tr>\n",
       "  </tbody>\n",
       "</table>\n",
       "<p>3 rows × 21 columns</p>\n",
       "</div>"
      ],
      "text/plain": [
       "                     @dynamics:AIS_scaler  @dynamics:holding_current  \\\n",
       "population node_ids                                                    \n",
       "NodeA      0                     1.264556                   1.944669   \n",
       "           1                     1.774234                   1.521848   \n",
       "           2                     1.456150                   1.414662   \n",
       "\n",
       "                     @dynamics:threshold_current  etype hemisphere layer  \\\n",
       "population node_ids                                                        \n",
       "NodeA      0                            1.118274  dSTUT      right    LA   \n",
       "           1                            1.639921  dSTUT      right    LB   \n",
       "           2                            1.143353   dNAC       left    LB   \n",
       "\n",
       "                         minis    model_template   model_type morph_class  \\\n",
       "population node_ids                                                         \n",
       "NodeA      0         79.915855   hoc:cNAC_L23BTC  biophysical         PYR   \n",
       "           1         46.147938   hoc:cNAC_L23BTC  biophysical         PYR   \n",
       "           2         78.052917  hoc:cADpyr_L2TPC  biophysical         PYR   \n",
       "\n",
       "                     ...  mtype orientation_w  orientation_x  orientation_y  \\\n",
       "population node_ids  ...                                                      \n",
       "NodeA      0         ...  L4_PC     -0.233117       0.136089      -0.825741   \n",
       "           1         ...  L4_MC      0.583450       0.851193      -0.959563   \n",
       "           2         ...  L4_MC      0.057790      -0.857928       0.665240   \n",
       "\n",
       "                     orientation_z  region synapse_class           x  \\\n",
       "population node_ids                                                    \n",
       "NodeA      0              0.556314      RB           INH   97.627007   \n",
       "           1              0.740024      RB           EXC  430.378723   \n",
       "           2              0.957237      RB           INH  205.526749   \n",
       "\n",
       "                              y           z  \n",
       "population node_ids                          \n",
       "NodeA      0          89.766365 -124.825577  \n",
       "           1        -152.690399  783.546021  \n",
       "           2         291.788239  927.325500  \n",
       "\n",
       "[3 rows x 21 columns]"
      ]
     },
     "execution_count": 12,
     "metadata": {},
     "output_type": "execute_result"
    }
   ],
   "source": [
    "snap_access.circuit.nodes.get(\"Mosaic_A\")"
   ]
  },
  {
   "attachments": {},
   "cell_type": "markdown",
   "metadata": {},
   "source": [
    "Below are all of the populations. There are 2 populations namely NodeA and NodeB. \n",
    "\n",
    "In the SONATA format, nodes in each population start from index 0. \n",
    "\n",
    "When we are working with a multi population simulation, the unique cell identifier is the composite key of `(population, node_id)`.\n",
    "\n",
    "This allows us to connect various SONATA nodes in any order. E.g. one can connect the SomatosensoralCortex circuit to the Thalamus circuit without having to worry about the order since there will be no conflict in the cell identifiers."
   ]
  },
  {
   "cell_type": "code",
   "execution_count": 13,
   "metadata": {},
   "outputs": [
    {
     "data": {
      "text/html": [
       "<div>\n",
       "<style scoped>\n",
       "    .dataframe tbody tr th:only-of-type {\n",
       "        vertical-align: middle;\n",
       "    }\n",
       "\n",
       "    .dataframe tbody tr th {\n",
       "        vertical-align: top;\n",
       "    }\n",
       "\n",
       "    .dataframe thead th {\n",
       "        text-align: right;\n",
       "    }\n",
       "</style>\n",
       "<table border=\"1\" class=\"dataframe\">\n",
       "  <thead>\n",
       "    <tr style=\"text-align: right;\">\n",
       "      <th></th>\n",
       "      <th></th>\n",
       "      <th>@dynamics:AIS_scaler</th>\n",
       "      <th>@dynamics:holding_current</th>\n",
       "      <th>@dynamics:threshold_current</th>\n",
       "      <th>etype</th>\n",
       "      <th>hemisphere</th>\n",
       "      <th>layer</th>\n",
       "      <th>minis</th>\n",
       "      <th>model_template</th>\n",
       "      <th>model_type</th>\n",
       "      <th>morph_class</th>\n",
       "      <th>...</th>\n",
       "      <th>mtype</th>\n",
       "      <th>orientation_w</th>\n",
       "      <th>orientation_x</th>\n",
       "      <th>orientation_y</th>\n",
       "      <th>orientation_z</th>\n",
       "      <th>region</th>\n",
       "      <th>synapse_class</th>\n",
       "      <th>x</th>\n",
       "      <th>y</th>\n",
       "      <th>z</th>\n",
       "    </tr>\n",
       "    <tr>\n",
       "      <th>population</th>\n",
       "      <th>node_ids</th>\n",
       "      <th></th>\n",
       "      <th></th>\n",
       "      <th></th>\n",
       "      <th></th>\n",
       "      <th></th>\n",
       "      <th></th>\n",
       "      <th></th>\n",
       "      <th></th>\n",
       "      <th></th>\n",
       "      <th></th>\n",
       "      <th></th>\n",
       "      <th></th>\n",
       "      <th></th>\n",
       "      <th></th>\n",
       "      <th></th>\n",
       "      <th></th>\n",
       "      <th></th>\n",
       "      <th></th>\n",
       "      <th></th>\n",
       "      <th></th>\n",
       "      <th></th>\n",
       "    </tr>\n",
       "  </thead>\n",
       "  <tbody>\n",
       "    <tr>\n",
       "      <th rowspan=\"3\" valign=\"top\">NodeA</th>\n",
       "      <th>0</th>\n",
       "      <td>1.264556</td>\n",
       "      <td>1.944669</td>\n",
       "      <td>1.118274</td>\n",
       "      <td>dSTUT</td>\n",
       "      <td>right</td>\n",
       "      <td>LA</td>\n",
       "      <td>79.915855</td>\n",
       "      <td>hoc:cNAC_L23BTC</td>\n",
       "      <td>biophysical</td>\n",
       "      <td>PYR</td>\n",
       "      <td>...</td>\n",
       "      <td>L4_PC</td>\n",
       "      <td>-0.233117</td>\n",
       "      <td>0.136089</td>\n",
       "      <td>-0.825741</td>\n",
       "      <td>0.556314</td>\n",
       "      <td>RB</td>\n",
       "      <td>INH</td>\n",
       "      <td>97.627007</td>\n",
       "      <td>89.766365</td>\n",
       "      <td>-124.825577</td>\n",
       "    </tr>\n",
       "    <tr>\n",
       "      <th>1</th>\n",
       "      <td>1.774234</td>\n",
       "      <td>1.521848</td>\n",
       "      <td>1.639921</td>\n",
       "      <td>dSTUT</td>\n",
       "      <td>right</td>\n",
       "      <td>LB</td>\n",
       "      <td>46.147938</td>\n",
       "      <td>hoc:cNAC_L23BTC</td>\n",
       "      <td>biophysical</td>\n",
       "      <td>PYR</td>\n",
       "      <td>...</td>\n",
       "      <td>L4_MC</td>\n",
       "      <td>0.583450</td>\n",
       "      <td>0.851193</td>\n",
       "      <td>-0.959563</td>\n",
       "      <td>0.740024</td>\n",
       "      <td>RB</td>\n",
       "      <td>EXC</td>\n",
       "      <td>430.378723</td>\n",
       "      <td>-152.690399</td>\n",
       "      <td>783.546021</td>\n",
       "    </tr>\n",
       "    <tr>\n",
       "      <th>2</th>\n",
       "      <td>1.456150</td>\n",
       "      <td>1.414662</td>\n",
       "      <td>1.143353</td>\n",
       "      <td>dNAC</td>\n",
       "      <td>left</td>\n",
       "      <td>LB</td>\n",
       "      <td>78.052917</td>\n",
       "      <td>hoc:cADpyr_L2TPC</td>\n",
       "      <td>biophysical</td>\n",
       "      <td>PYR</td>\n",
       "      <td>...</td>\n",
       "      <td>L4_MC</td>\n",
       "      <td>0.057790</td>\n",
       "      <td>-0.857928</td>\n",
       "      <td>0.665240</td>\n",
       "      <td>0.957237</td>\n",
       "      <td>RB</td>\n",
       "      <td>INH</td>\n",
       "      <td>205.526749</td>\n",
       "      <td>291.788239</td>\n",
       "      <td>927.325500</td>\n",
       "    </tr>\n",
       "    <tr>\n",
       "      <th rowspan=\"2\" valign=\"top\">NodeB</th>\n",
       "      <th>0</th>\n",
       "      <td>1.837945</td>\n",
       "      <td>1.820993</td>\n",
       "      <td>1.196582</td>\n",
       "      <td>dSTUT</td>\n",
       "      <td>right</td>\n",
       "      <td>LC</td>\n",
       "      <td>65.632957</td>\n",
       "      <td>hoc:bAC_IN</td>\n",
       "      <td>biophysical</td>\n",
       "      <td>INT</td>\n",
       "      <td>...</td>\n",
       "      <td>L4_PC</td>\n",
       "      <td>-0.582246</td>\n",
       "      <td>0.306217</td>\n",
       "      <td>-0.067378</td>\n",
       "      <td>-0.682061</td>\n",
       "      <td>RB</td>\n",
       "      <td>EXC</td>\n",
       "      <td>-369.143311</td>\n",
       "      <td>140.393539</td>\n",
       "      <td>976.747681</td>\n",
       "    </tr>\n",
       "    <tr>\n",
       "      <th>1</th>\n",
       "      <td>1.096098</td>\n",
       "      <td>1.097101</td>\n",
       "      <td>1.368725</td>\n",
       "      <td>dSTUT</td>\n",
       "      <td>right</td>\n",
       "      <td>LC</td>\n",
       "      <td>13.818295</td>\n",
       "      <td>hoc:bAC_IN</td>\n",
       "      <td>biophysical</td>\n",
       "      <td>PYR</td>\n",
       "      <td>...</td>\n",
       "      <td>L5_PC</td>\n",
       "      <td>-0.677381</td>\n",
       "      <td>-0.493417</td>\n",
       "      <td>-0.511149</td>\n",
       "      <td>-0.779250</td>\n",
       "      <td>RA</td>\n",
       "      <td>EXC</td>\n",
       "      <td>-272.578461</td>\n",
       "      <td>-122.796974</td>\n",
       "      <td>-795.910400</td>\n",
       "    </tr>\n",
       "  </tbody>\n",
       "</table>\n",
       "<p>5 rows × 21 columns</p>\n",
       "</div>"
      ],
      "text/plain": [
       "                     @dynamics:AIS_scaler  @dynamics:holding_current  \\\n",
       "population node_ids                                                    \n",
       "NodeA      0                     1.264556                   1.944669   \n",
       "           1                     1.774234                   1.521848   \n",
       "           2                     1.456150                   1.414662   \n",
       "NodeB      0                     1.837945                   1.820993   \n",
       "           1                     1.096098                   1.097101   \n",
       "\n",
       "                     @dynamics:threshold_current  etype hemisphere layer  \\\n",
       "population node_ids                                                        \n",
       "NodeA      0                            1.118274  dSTUT      right    LA   \n",
       "           1                            1.639921  dSTUT      right    LB   \n",
       "           2                            1.143353   dNAC       left    LB   \n",
       "NodeB      0                            1.196582  dSTUT      right    LC   \n",
       "           1                            1.368725  dSTUT      right    LC   \n",
       "\n",
       "                         minis    model_template   model_type morph_class  \\\n",
       "population node_ids                                                         \n",
       "NodeA      0         79.915855   hoc:cNAC_L23BTC  biophysical         PYR   \n",
       "           1         46.147938   hoc:cNAC_L23BTC  biophysical         PYR   \n",
       "           2         78.052917  hoc:cADpyr_L2TPC  biophysical         PYR   \n",
       "NodeB      0         65.632957        hoc:bAC_IN  biophysical         INT   \n",
       "           1         13.818295        hoc:bAC_IN  biophysical         PYR   \n",
       "\n",
       "                     ...  mtype orientation_w  orientation_x  orientation_y  \\\n",
       "population node_ids  ...                                                      \n",
       "NodeA      0         ...  L4_PC     -0.233117       0.136089      -0.825741   \n",
       "           1         ...  L4_MC      0.583450       0.851193      -0.959563   \n",
       "           2         ...  L4_MC      0.057790      -0.857928       0.665240   \n",
       "NodeB      0         ...  L4_PC     -0.582246       0.306217      -0.067378   \n",
       "           1         ...  L5_PC     -0.677381      -0.493417      -0.511149   \n",
       "\n",
       "                     orientation_z  region synapse_class           x  \\\n",
       "population node_ids                                                    \n",
       "NodeA      0              0.556314      RB           INH   97.627007   \n",
       "           1              0.740024      RB           EXC  430.378723   \n",
       "           2              0.957237      RB           INH  205.526749   \n",
       "NodeB      0             -0.682061      RB           EXC -369.143311   \n",
       "           1             -0.779250      RA           EXC -272.578461   \n",
       "\n",
       "                              y           z  \n",
       "population node_ids                          \n",
       "NodeA      0          89.766365 -124.825577  \n",
       "           1        -152.690399  783.546021  \n",
       "           2         291.788239  927.325500  \n",
       "NodeB      0         140.393539  976.747681  \n",
       "           1        -122.796974 -795.910400  \n",
       "\n",
       "[5 rows x 21 columns]"
      ]
     },
     "execution_count": 13,
     "metadata": {},
     "output_type": "execute_result"
    }
   ],
   "source": [
    "all_nodes = snap_access.circuit.nodes.get()\n",
    "all_nodes"
   ]
  },
  {
   "attachments": {},
   "cell_type": "markdown",
   "metadata": {},
   "source": [
    "Below we select all of the cells of `dSTUT` (delayed stuttering) etype."
   ]
  },
  {
   "cell_type": "code",
   "execution_count": 14,
   "metadata": {},
   "outputs": [
    {
     "data": {
      "text/plain": [
       "[('NodeA', 0), ('NodeA', 1), ('NodeB', 0), ('NodeB', 1)]"
      ]
     },
     "execution_count": 14,
     "metadata": {},
     "output_type": "execute_result"
    }
   ],
   "source": [
    "dstut_cells = all_nodes[all_nodes[\"etype\"] == \"dSTUT\"].index.to_list()\n",
    "dstut_cells"
   ]
  },
  {
   "cell_type": "code",
   "execution_count": 15,
   "metadata": {},
   "outputs": [],
   "source": [
    "sim.instantiate_gids(dstut_cells, add_stimuli=True, add_synapses=True)\n",
    "t_stop = 50.0\n",
    "sim.run(t_stop)"
   ]
  },
  {
   "cell_type": "code",
   "execution_count": 16,
   "metadata": {},
   "outputs": [
    {
     "data": {
      "image/png": "[encoded data removed]",
      "text/plain": [
       "<Figure size 1000x600 with 1 Axes>"
      ]
     },
     "metadata": {},
     "output_type": "display_data"
    }
   ],
   "source": [
    "# Define the figure size\n",
    "plt.figure(figsize=(10, 6))\n",
    "for cell_id in sim.cells:\n",
    "    # Get the voltage trace\n",
    "    time = sim.get_time_trace()\n",
    "    voltage = sim.get_voltage_trace(cell_id)\n",
    "    plt.plot(time, voltage, label=cell_id)\n",
    "    plt.legend()\n",
    "    plt.xlabel(\"Time (ms)\")\n",
    "    plt.ylabel(\"Voltage (mV)\")\n"
   ]
  },
  {
   "attachments": {},
   "cell_type": "markdown",
   "metadata": {},
   "source": [
    "The figure shows that from all dSTUT cells, only the cells of NodeA population are affected by the Hyperpolarizing input."
   ]
  }
 ],
 "metadata": {
  "kernelspec": {
   "display_name": "bluecellulab310",
   "language": "python",
   "name": "python3"
  },
  "language_info": {
   "codemirror_mode": {
    "name": "ipython",
    "version": 3
   },
   "file_extension": ".py",
   "mimetype": "text/x-python",
   "name": "python",
   "nbconvert_exporter": "python",
   "pygments_lexer": "ipython3",
   "version": "3.11.5"
  },
  "orig_nbformat": 4
 },
 "nbformat": 4,
 "nbformat_minor": 2
}
