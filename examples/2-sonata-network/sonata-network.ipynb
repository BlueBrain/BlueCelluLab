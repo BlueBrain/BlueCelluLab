{
 "cells": [
  {
   "attachments": {},
   "cell_type": "markdown",
   "metadata": {},
   "source": [
    "# Simulating a SONATA Network\n",
    "\n",
    "This notebook shows how to simulate single cell or a group of cells from a SONATA network.\n",
    "\n",
    "SONATA is a data format developed jointly by the Allen Institute for Brain Science (AIBS) and the Blue Brain Project (BBP) to enable standardisation and interoperability of the neuronal network models and simulation. See the [SONATA-extension documentation](https://sonata-extension.readthedocs.io/) for more details on the format and how we use it."
   ]
  },
  {
   "attachments": {},
   "cell_type": "markdown",
   "metadata": {},
   "source": [
    "## Compiling mechanisms\n",
    "\n",
    "Just like in the previous tutorial, we again need to compile the mechanisms."
   ]
  },
  {
   "cell_type": "code",
   "execution_count": 1,
   "metadata": {
    "vscode": {
     "languageId": "shellscript"
    }
   },
   "outputs": [
    {
     "name": "stdout",
     "output_type": "stream",
     "text": [
      "/gpfs/bbp.cscs.ch/project/proj136/home/mandge/2024/bcl_3004224/BlueCelluLab/examples/2-sonata-network\n",
      "Mod files: \"../mechanisms/../mechanisms/CaDynamics_DC0.mod\" \"../mechanisms/../mechanisms/CaDynamics_E2.mod\" \"../mechanisms/../mechanisms/Ca_HVA2.mod\" \"../mechanisms/../mechanisms/Ca_HVA.mod\" \"../mechanisms/../mechanisms/Ca_LVAst.mod\" \"../mechanisms/../mechanisms/Ca.mod\" \"../mechanisms/../mechanisms/DetAMPANMDA.mod\" \"../mechanisms/../mechanisms/DetGABAAB.mod\" \"../mechanisms/../mechanisms/gap.mod\" \"../mechanisms/../mechanisms/GluSynapse.mod\" \"../mechanisms/../mechanisms/Ih.mod\" \"../mechanisms/../mechanisms/Im.mod\" \"../mechanisms/../mechanisms/KdShu2007.mod\" \"../mechanisms/../mechanisms/K_Pst.mod\" \"../mechanisms/../mechanisms/K_Tst.mod\" \"../mechanisms/../mechanisms/Nap_Et2.mod\" \"../mechanisms/../mechanisms/NaTa_t.mod\" \"../mechanisms/../mechanisms/NaTg.mod\" \"../mechanisms/../mechanisms/NaTs2_t.mod\" \"../mechanisms/../mechanisms/netstim_inhpoisson.mod\" \"../mechanisms/../mechanisms/ProbAMPANMDA_EMS.mod\" \"../mechanisms/../mechanisms/ProbGABAAB_EMS.mod\" \"../mechanisms/../mechanisms/SK_E2.mod\" \"../mechanisms/../mechanisms/SKv3_1.mod\" \"../mechanisms/../mechanisms/StochKv3.mod\" \"../mechanisms/../mechanisms/StochKv.mod\" \"../mechanisms/../mechanisms/TTXDynamicsSwitch.mod\" \"../mechanisms/../mechanisms/VecStim.mod\"\n",
      "\n",
      "Creating 'x86_64' directory for .o files.\n",
      "\n",
      " -> \u001b[32mCompiling\u001b[0m mod_func.cpp\n",
      " -> \u001b[32mNMODL\u001b[0m ../../mechanisms/CaDynamics_DC0.mod\n",
      " -> \u001b[32mNMODL\u001b[0m ../../mechanisms/CaDynamics_E2.mod\n",
      " -> \u001b[32mNMODL\u001b[0m ../../mechanisms/Ca_HVA2.mod\n",
      "Translating CaDynamics_E2.mod into /gpfs/bbp.cscs.ch/project/proj136/home/mandge/2024/bcl_3004224/BlueCelluLab/examples/2-sonata-network/x86_64/CaDynamics_E2.c\n",
      "Translating Ca_HVA2.mod into /gpfs/bbp.cscs.ch/project/proj136/home/mandge/2024/bcl_3004224/BlueCelluLab/examples/2-sonata-network/x86_64/Ca_HVA2.c\n",
      "Translating CaDynamics_DC0.mod into /gpfs/bbp.cscs.ch/project/proj136/home/mandge/2024/bcl_3004224/BlueCelluLab/examples/2-sonata-network/x86_64/CaDynamics_DC0.c\n",
      "Thread Safe\n",
      "Thread Safe\n",
      "Thread Safe\n",
      " -> \u001b[32mNMODL\u001b[0m ../../mechanisms/Ca_HVA.mod\n",
      " -> \u001b[32mNMODL\u001b[0m ../../mechanisms/Ca_LVAst.mod\n",
      " -> \u001b[32mNMODL\u001b[0m ../../mechanisms/Ca.mod\n",
      "Translating Ca_HVA.mod into /gpfs/bbp.cscs.ch/project/proj136/home/mandge/2024/bcl_3004224/BlueCelluLab/examples/2-sonata-network/x86_64/Ca_HVA.c\n",
      "Translating Ca_LVAst.mod into /gpfs/bbp.cscs.ch/project/proj136/home/mandge/2024/bcl_3004224/BlueCelluLab/examples/2-sonata-network/x86_64/Ca_LVAst.c\n",
      "Translating Ca.mod into /gpfs/bbp.cscs.ch/project/proj136/home/mandge/2024/bcl_3004224/BlueCelluLab/examples/2-sonata-network/x86_64/Ca.c\n",
      "Thread Safe\n",
      "Thread Safe\n",
      "Thread Safe\n",
      " -> \u001b[32mNMODL\u001b[0m ../../mechanisms/DetAMPANMDA.mod\n",
      " -> \u001b[32mNMODL\u001b[0m ../../mechanisms/DetGABAAB.mod\n",
      " -> \u001b[32mNMODL\u001b[0m ../../mechanisms/gap.mod\n",
      "Translating DetAMPANMDA.mod into /gpfs/bbp.cscs.ch/project/proj136/home/mandge/2024/bcl_3004224/BlueCelluLab/examples/2-sonata-network/x86_64/DetAMPANMDA.c\n",
      "Translating DetGABAAB.mod into /gpfs/bbp.cscs.ch/project/proj136/home/mandge/2024/bcl_3004224/BlueCelluLab/examples/2-sonata-network/x86_64/DetGABAAB.c\n",
      "Translating gap.mod into /gpfs/bbp.cscs.ch/project/proj136/home/mandge/2024/bcl_3004224/BlueCelluLab/examples/2-sonata-network/x86_64/gap.c\n",
      "Thread Safe\n",
      " -> \u001b[32mNMODL\u001b[0m ../../mechanisms/GluSynapse.mod\n",
      "Warning: next_delay_weight undefined. (declared within VERBATIM?)\n",
      "Warning: next_delay_t undefined. (declared within VERBATIM?)\n",
      "Translating GluSynapse.mod into /gpfs/bbp.cscs.ch/project/proj136/home/mandge/2024/bcl_3004224/BlueCelluLab/examples/2-sonata-network/x86_64/GluSynapse.c\n",
      "Warning: next_delay_weight undefined. (declared within VERBATIM?)\n",
      "Warning: next_delay_t undefined. (declared within VERBATIM?)\n",
      "Thread Safe\n",
      "Thread Safe\n",
      " -> \u001b[32mNMODL\u001b[0m ../../mechanisms/Ih.mod\n",
      " -> \u001b[32mNMODL\u001b[0m ../../mechanisms/Im.mod\n",
      "Translating Ih.mod into /gpfs/bbp.cscs.ch/project/proj136/home/mandge/2024/bcl_3004224/BlueCelluLab/examples/2-sonata-network/x86_64/Ih.c\n",
      "Translating Im.mod into /gpfs/bbp.cscs.ch/project/proj136/home/mandge/2024/bcl_3004224/BlueCelluLab/examples/2-sonata-network/x86_64/Im.c\n",
      "Thread Safe\n",
      "Thread Safe\n",
      " -> \u001b[32mNMODL\u001b[0m ../../mechanisms/KdShu2007.mod\n",
      "Warning: next_delay_weight undefined. (declared within VERBATIM?)\n",
      "Warning: next_delay_t undefined. (declared within VERBATIM?)\n",
      " -> \u001b[32mNMODL\u001b[0m ../../mechanisms/K_Pst.mod\n",
      "Thread Safe\n",
      "Translating KdShu2007.mod into /gpfs/bbp.cscs.ch/project/proj136/home/mandge/2024/bcl_3004224/BlueCelluLab/examples/2-sonata-network/x86_64/KdShu2007.c\n",
      " -> \u001b[32mNMODL\u001b[0m ../../mechanisms/K_Tst.mod\n",
      "Translating K_Pst.mod into /gpfs/bbp.cscs.ch/project/proj136/home/mandge/2024/bcl_3004224/BlueCelluLab/examples/2-sonata-network/x86_64/K_Pst.c\n",
      "Thread Safe\n",
      "Thread Safe\n",
      " -> \u001b[32mNMODL\u001b[0m ../../mechanisms/Nap_Et2.mod\n",
      "Translating K_Tst.mod into /gpfs/bbp.cscs.ch/project/proj136/home/mandge/2024/bcl_3004224/BlueCelluLab/examples/2-sonata-network/x86_64/K_Tst.c\n",
      " -> \u001b[32mNMODL\u001b[0m ../../mechanisms/NaTa_t.mod\n",
      "Thread Safe\n",
      "Translating Nap_Et2.mod into /gpfs/bbp.cscs.ch/project/proj136/home/mandge/2024/bcl_3004224/BlueCelluLab/examples/2-sonata-network/x86_64/Nap_Et2.c\n",
      " -> \u001b[32mNMODL\u001b[0m ../../mechanisms/NaTg.mod\n",
      "Translating NaTa_t.mod into /gpfs/bbp.cscs.ch/project/proj136/home/mandge/2024/bcl_3004224/BlueCelluLab/examples/2-sonata-network/x86_64/NaTa_t.c\n",
      "Thread Safe\n",
      "Thread Safe\n",
      " -> \u001b[32mNMODL\u001b[0m ../../mechanisms/NaTs2_t.mod\n",
      " -> \u001b[32mNMODL\u001b[0m ../../mechanisms/netstim_inhpoisson.mod\n",
      "Translating NaTg.mod into /gpfs/bbp.cscs.ch/project/proj136/home/mandge/2024/bcl_3004224/BlueCelluLab/examples/2-sonata-network/x86_64/NaTg.c\n",
      "Thread Safe\n",
      " -> \u001b[32mNMODL\u001b[0m ../../mechanisms/ProbAMPANMDA_EMS.mod\n",
      "Translating NaTs2_t.mod into /gpfs/bbp.cscs.ch/project/proj136/home/mandge/2024/bcl_3004224/BlueCelluLab/examples/2-sonata-network/x86_64/NaTs2_t.c\n",
      "Translating netstim_inhpoisson.mod into /gpfs/bbp.cscs.ch/project/proj136/home/mandge/2024/bcl_3004224/BlueCelluLab/examples/2-sonata-network/x86_64/netstim_inhpoisson.c\n",
      "Thread Safe\n",
      " -> \u001b[32mNMODL\u001b[0m ../../mechanisms/ProbGABAAB_EMS.mod\n",
      "Translating ProbAMPANMDA_EMS.mod into /gpfs/bbp.cscs.ch/project/proj136/home/mandge/2024/bcl_3004224/BlueCelluLab/examples/2-sonata-network/x86_64/ProbAMPANMDA_EMS.c\n",
      "Warning: POST_RESTORE_RESTART_FLAG undefined. (declared within VERBATIM?)\n",
      "Notice: ARTIFICIAL_CELL is a synonym for POINT_PROCESS which hints that it\n",
      "only affects and is affected by discrete events. As such it is not\n",
      "located in a section and is not associated with an integrator\n",
      "Translating ProbGABAAB_EMS.mod into /gpfs/bbp.cscs.ch/project/proj136/home/mandge/2024/bcl_3004224/BlueCelluLab/examples/2-sonata-network/x86_64/ProbGABAAB_EMS.c\n",
      "Thread Safe\n",
      " -> \u001b[32mNMODL\u001b[0m ../../mechanisms/SK_E2.mod\n",
      "Translating SK_E2.mod into /gpfs/bbp.cscs.ch/project/proj136/home/mandge/2024/bcl_3004224/BlueCelluLab/examples/2-sonata-network/x86_64/SK_E2.c\n",
      "Notice: This mechanism cannot be used with CVODE\n",
      "Notice: A_AMPA discontinuity adjustment not available.\n",
      "Notice: B_AMPA discontinuity adjustment not available.\n",
      "Notice: A_NMDA discontinuity adjustment not available.\n",
      "Notice: B_NMDA discontinuity adjustment not available.\n",
      "Warning: dt undefined. (declared within VERBATIM?)\n",
      "Warning: next_delay_weight undefined. (declared within VERBATIM?)\n",
      "Warning: next_delay_t undefined. (declared within VERBATIM?)\n",
      "Notice: This mechanism cannot be used with CVODE\n",
      "Notice: A_GABAA discontinuity adjustment not available.\n",
      "Notice: B_GABAA discontinuity adjustment not available.\n",
      "Notice: A_GABAB discontinuity adjustment not available.\n",
      "Notice: B_GABAB discontinuity adjustment not available.\n",
      "Warning: dt undefined. (declared within VERBATIM?)\n",
      "Warning: next_delay_weight undefined. (declared within VERBATIM?)\n",
      "Warning: next_delay_t undefined. (declared within VERBATIM?)\n",
      "Thread Safe\n",
      "Thread Safe\n",
      "Thread Safe\n",
      " -> \u001b[32mNMODL\u001b[0m ../../mechanisms/SKv3_1.mod\n",
      " -> \u001b[32mNMODL\u001b[0m ../../mechanisms/StochKv3.mod\n",
      " -> \u001b[32mNMODL\u001b[0m ../../mechanisms/StochKv.mod\n",
      "Translating SKv3_1.mod into /gpfs/bbp.cscs.ch/project/proj136/home/mandge/2024/bcl_3004224/BlueCelluLab/examples/2-sonata-network/x86_64/SKv3_1.c\n",
      "Translating StochKv3.mod into /gpfs/bbp.cscs.ch/project/proj136/home/mandge/2024/bcl_3004224/BlueCelluLab/examples/2-sonata-network/x86_64/StochKv3.c\n",
      "Translating StochKv.mod into /gpfs/bbp.cscs.ch/project/proj136/home/mandge/2024/bcl_3004224/BlueCelluLab/examples/2-sonata-network/x86_64/StochKv.c\n",
      "Thread Safe\n",
      " -> \u001b[32mNMODL\u001b[0m ../../mechanisms/TTXDynamicsSwitch.mod\n",
      " -> \u001b[32mNMODL\u001b[0m ../../mechanisms/VecStim.mod\n",
      "Warning: bnl undefined. (declared within VERBATIM?)\n",
      "Warning: value undefined. (declared within VERBATIM?)\n",
      "Thread Safe\n",
      "Translating TTXDynamicsSwitch.mod into /gpfs/bbp.cscs.ch/project/proj136/home/mandge/2024/bcl_3004224/BlueCelluLab/examples/2-sonata-network/x86_64/TTXDynamicsSwitch.c\n",
      "Translating VecStim.mod into /gpfs/bbp.cscs.ch/project/proj136/home/mandge/2024/bcl_3004224/BlueCelluLab/examples/2-sonata-network/x86_64/VecStim.c\n",
      "Warning: bnl undefined. (declared within VERBATIM?)\n",
      "Warning: value undefined. (declared within VERBATIM?)\n",
      " -> \u001b[32mCompiling\u001b[0m CaDynamics_DC0.c\n",
      "Thread Safe\n",
      "Thread Safe\n",
      " -> \u001b[32mCompiling\u001b[0m CaDynamics_E2.c\n",
      " -> \u001b[32mCompiling\u001b[0m Ca_HVA2.c\n",
      "Thread Safe\n",
      " -> \u001b[32mCompiling\u001b[0m Ca_HVA.c\n",
      " -> \u001b[32mCompiling\u001b[0m Ca_LVAst.c\n",
      " -> \u001b[32mCompiling\u001b[0m Ca.c\n",
      " -> \u001b[32mCompiling\u001b[0m DetAMPANMDA.c\n",
      " -> \u001b[32mCompiling\u001b[0m DetGABAAB.c\n",
      " -> \u001b[32mCompiling\u001b[0m gap.c\n",
      " -> \u001b[32mCompiling\u001b[0m GluSynapse.c\n",
      " -> \u001b[32mCompiling\u001b[0m Ih.c\n",
      " -> \u001b[32mCompiling\u001b[0m Im.c\n",
      " -> \u001b[32mCompiling\u001b[0m KdShu2007.c\n",
      " -> \u001b[32mCompiling\u001b[0m K_Pst.c\n",
      " -> \u001b[32mCompiling\u001b[0m K_Tst.c\n",
      " -> \u001b[32mCompiling\u001b[0m Nap_Et2.c\n",
      " -> \u001b[32mCompiling\u001b[0m NaTa_t.c\n",
      " -> \u001b[32mCompiling\u001b[0m NaTg.c\n",
      " -> \u001b[32mCompiling\u001b[0m NaTs2_t.c\n",
      " -> \u001b[32mCompiling\u001b[0m netstim_inhpoisson.c\n",
      " -> \u001b[32mCompiling\u001b[0m ProbAMPANMDA_EMS.c\n",
      " -> \u001b[32mCompiling\u001b[0m ProbGABAAB_EMS.c\n",
      " -> \u001b[32mCompiling\u001b[0m SK_E2.c\n",
      " -> \u001b[32mCompiling\u001b[0m SKv3_1.c\n",
      " -> \u001b[32mCompiling\u001b[0m StochKv3.c\n",
      " -> \u001b[32mCompiling\u001b[0m StochKv.c\n",
      " -> \u001b[32mCompiling\u001b[0m TTXDynamicsSwitch.c\n",
      " -> \u001b[32mCompiling\u001b[0m VecStim.c\n",
      " => \u001b[32mLINKING\u001b[0m shared library ./libnrnmech.so\n",
      " => \u001b[32mLINKING\u001b[0m executable ./special LDFLAGS are:    -pthread\n",
      "Successfully created x86_64/special\n"
     ]
    }
   ],
   "source": [
    "!nrnivmodl ../mechanisms"
   ]
  },
  {
   "attachments": {},
   "cell_type": "markdown",
   "metadata": {},
   "source": [
    "**Note**: The compiled mechanisms need to be provided before importing bluecellulab."
   ]
  },
  {
   "cell_type": "code",
   "execution_count": 2,
   "metadata": {},
   "outputs": [],
   "source": [
    "# hack that imports libsonata before NEURON to avoid libc conflict\n",
    "import libsonata  # https://github.com/BlueBrain/libsonata/issues/273"
   ]
  },
  {
   "cell_type": "code",
   "execution_count": 3,
   "metadata": {},
   "outputs": [
    {
     "name": "stderr",
     "output_type": "stream",
     "text": [
      "Warning: no DISPLAY environment variable.\n",
      "--No graphics will be displayed.\n"
     ]
    }
   ],
   "source": [
    "import json\n",
    "from pathlib import Path\n",
    "\n",
    "from matplotlib import pyplot as plt\n",
    "import seaborn as sns\n",
    "\n",
    "sns.set_style(\"white\")\n",
    "\n",
    "from bluecellulab import CircuitSimulation\n",
    "from bluecellulab.graph import build_graph, plot_graph"
   ]
  },
  {
   "attachments": {},
   "cell_type": "markdown",
   "metadata": {},
   "source": [
    "Here we have a simulation config as an input.\n",
    "\n",
    "This is the configuration file recognised by the [neurodamus](https://github.com/BlueBrain/neurodamus/) large-scale neuronal network simulator.\n",
    "\n",
    "Bluecellulab reads the same config as neurodamus since one common usage of bluecellulab is to repeat a subset of the large-scale neurodamus simulation to enable experimentation on a small group of cells within the large network."
   ]
  },
  {
   "cell_type": "code",
   "execution_count": 4,
   "metadata": {},
   "outputs": [],
   "source": [
    "simulation_config = Path(\"sim_quick_scx_sonata_multicircuit\") / \"simulation_config_hypamp.json\""
   ]
  },
  {
   "attachments": {},
   "cell_type": "markdown",
   "metadata": {},
   "source": [
    "Now we will see the contents of the input simulation config file."
   ]
  },
  {
   "cell_type": "code",
   "execution_count": 5,
   "metadata": {},
   "outputs": [],
   "source": [
    "with open(simulation_config) as f:\n",
    "    simulation_config_dict = json.load(f)"
   ]
  },
  {
   "attachments": {},
   "cell_type": "markdown",
   "metadata": {},
   "source": [
    "Here is all simulation config entries."
   ]
  },
  {
   "cell_type": "code",
   "execution_count": 6,
   "metadata": {},
   "outputs": [
    {
     "name": "stdout",
     "output_type": "stream",
     "text": [
      "{\n",
      "    \"manifest\": {\n",
      "        \"$OUTPUT_DIR\": \".\"\n",
      "    },\n",
      "    \"run\": {\n",
      "        \"tstop\": 50.0,\n",
      "        \"dt\": 0.025,\n",
      "        \"random_seed\": 1\n",
      "    },\n",
      "    \"conditions\": {\n",
      "        \"v_init\": -65\n",
      "    },\n",
      "    \"target_simulator\": \"NEURON\",\n",
      "    \"network\": \"circuit_sonata.json\",\n",
      "    \"node_set\": \"Mosaic_A\",\n",
      "    \"output\": {\n",
      "        \"output_dir\": \"$OUTPUT_DIR/output_sonata_hypamp\",\n",
      "        \"spikes_file\": \"out.h5\",\n",
      "        \"spikes_sort_order\": \"by_time\"\n",
      "    },\n",
      "    \"inputs\": {\n",
      "        \"hypamp_mosaic\": {\n",
      "            \"module\": \"hyperpolarizing\",\n",
      "            \"input_type\": \"current_clamp\",\n",
      "            \"delay\": 0.0,\n",
      "            \"duration\": 4000.0,\n",
      "            \"node_set\": \"Mosaic_A\"\n",
      "        }\n",
      "    },\n",
      "    \"reports\": {\n",
      "        \"soma\": {\n",
      "            \"cells\": \"Mosaic_A\",\n",
      "            \"variable_name\": \"v\",\n",
      "            \"type\": \"compartment\",\n",
      "            \"dt\": 1.0,\n",
      "            \"start_time\": 0.0,\n",
      "            \"end_time\": 20.0,\n",
      "            \"sections\": \"soma\",\n",
      "            \"compartments\": \"center\"\n",
      "        }\n",
      "    }\n",
      "}\n"
     ]
    }
   ],
   "source": [
    "print(json.dumps(simulation_config_dict, indent=4))"
   ]
  },
  {
   "attachments": {},
   "cell_type": "markdown",
   "metadata": {},
   "source": [
    "The input section represents the input stimuli to be given to target node sets (cell groups).\n",
    "Here in this simulation we only have a single stimulus called `hypamp_mosaic`. \n",
    "\n",
    "`module`: \"hyperpolarizing\" means it will use the defined hyperpolarizing stimulus of bluecellulab.\n",
    "\n",
    "`input_type`: it tells that the input will be given as a current clamp (some other stimulus support also conductance clamps, see docs for more \n",
    "information).\n",
    "\n",
    "`delay` and `duration` are the parameters of the input stimulus.\n",
    "\n",
    "`node_set` denotes which nodes will be affected by this stimulus."
   ]
  },
  {
   "cell_type": "code",
   "execution_count": 7,
   "metadata": {},
   "outputs": [
    {
     "name": "stdout",
     "output_type": "stream",
     "text": [
      "{\n",
      "    \"hypamp_mosaic\": {\n",
      "        \"module\": \"hyperpolarizing\",\n",
      "        \"input_type\": \"current_clamp\",\n",
      "        \"delay\": 0.0,\n",
      "        \"duration\": 4000.0,\n",
      "        \"node_set\": \"Mosaic_A\"\n",
      "    }\n",
      "}\n"
     ]
    }
   ],
   "source": [
    "print(json.dumps(simulation_config_dict[\"inputs\"], indent=4))"
   ]
  },
  {
   "attachments": {},
   "cell_type": "markdown",
   "metadata": {},
   "source": [
    "Here the circuit simulation is loaded using the CircuitSimulation object."
   ]
  },
  {
   "cell_type": "code",
   "execution_count": 8,
   "metadata": {},
   "outputs": [],
   "source": [
    "sim = CircuitSimulation(simulation_config)"
   ]
  },
  {
   "attachments": {},
   "cell_type": "markdown",
   "metadata": {},
   "source": [
    "The input described in the simulation config is parsed in the Hyperpolarizing stimulus object."
   ]
  },
  {
   "cell_type": "code",
   "execution_count": 9,
   "metadata": {},
   "outputs": [
    {
     "data": {
      "text/plain": [
       "[Hyperpolarizing(target='Mosaic_A', delay=0.0, duration=4000.0)]"
      ]
     },
     "execution_count": 9,
     "metadata": {},
     "output_type": "execute_result"
    }
   ],
   "source": [
    "stimuli_entries = sim.circuit_access.config.get_all_stimuli_entries()\n",
    "stimuli_entries"
   ]
  },
  {
   "cell_type": "code",
   "execution_count": 10,
   "metadata": {},
   "outputs": [
    {
     "data": {
      "text/plain": [
       "Hyperpolarizing(target='Mosaic_A', delay=0.0, duration=4000.0)"
      ]
     },
     "execution_count": 10,
     "metadata": {},
     "output_type": "execute_result"
    }
   ],
   "source": [
    "stimulus = stimuli_entries[0]\n",
    "stimulus"
   ]
  },
  {
   "attachments": {},
   "cell_type": "markdown",
   "metadata": {},
   "source": [
    "At this point, we will specify the cells that we are interested in and bluecellulab only will simulate those cells.\n",
    "\n",
    "One convenient way of selecting the cells is through the use of [SNAP](https://github.com/BlueBrain/snap/) library.\n",
    "\n",
    "SNAP is a Python library for accessing BlueBrain circuit models represented in SONATA format. It enables detailed querying of the cells and their connections."
   ]
  },
  {
   "cell_type": "code",
   "execution_count": 11,
   "metadata": {},
   "outputs": [],
   "source": [
    "from bluepysnap import Simulation as snap_sim"
   ]
  },
  {
   "attachments": {},
   "cell_type": "markdown",
   "metadata": {},
   "source": [
    "Here we load the same simulation config using snap. We will look at the contents of the SONATA nodes and select the cells we wish to simulate."
   ]
  },
  {
   "cell_type": "code",
   "execution_count": 12,
   "metadata": {},
   "outputs": [],
   "source": [
    "snap_access = snap_sim(simulation_config)"
   ]
  },
  {
   "attachments": {},
   "cell_type": "markdown",
   "metadata": {},
   "source": [
    "The simulation_config was specifying \"Mosaic_A\" as the node_set. Let's check what cells does it contain.\n",
    "\n",
    "Here this pandas table shows that NodeA is a population that contains 3 nodes in it."
   ]
  },
  {
   "cell_type": "code",
   "execution_count": 13,
   "metadata": {},
   "outputs": [],
   "source": [
    "import pandas as pd"
   ]
  },
  {
   "cell_type": "code",
   "execution_count": 14,
   "metadata": {},
   "outputs": [
    {
     "data": {
      "text/html": [
       "<div>\n",
       "<style scoped>\n",
       "    .dataframe tbody tr th:only-of-type {\n",
       "        vertical-align: middle;\n",
       "    }\n",
       "\n",
       "    .dataframe tbody tr th {\n",
       "        vertical-align: top;\n",
       "    }\n",
       "\n",
       "    .dataframe thead th {\n",
       "        text-align: right;\n",
       "    }\n",
       "</style>\n",
       "<table border=\"1\" class=\"dataframe\">\n",
       "  <thead>\n",
       "    <tr style=\"text-align: right;\">\n",
       "      <th></th>\n",
       "      <th></th>\n",
       "      <th>@dynamics:AIS_scaler</th>\n",
       "      <th>@dynamics:holding_current</th>\n",
       "      <th>@dynamics:threshold_current</th>\n",
       "      <th>etype</th>\n",
       "      <th>hemisphere</th>\n",
       "      <th>layer</th>\n",
       "      <th>minis</th>\n",
       "      <th>model_template</th>\n",
       "      <th>model_type</th>\n",
       "      <th>morph_class</th>\n",
       "      <th>...</th>\n",
       "      <th>mtype</th>\n",
       "      <th>orientation_w</th>\n",
       "      <th>orientation_x</th>\n",
       "      <th>orientation_y</th>\n",
       "      <th>orientation_z</th>\n",
       "      <th>region</th>\n",
       "      <th>synapse_class</th>\n",
       "      <th>x</th>\n",
       "      <th>y</th>\n",
       "      <th>z</th>\n",
       "    </tr>\n",
       "    <tr>\n",
       "      <th>population</th>\n",
       "      <th>node_ids</th>\n",
       "      <th></th>\n",
       "      <th></th>\n",
       "      <th></th>\n",
       "      <th></th>\n",
       "      <th></th>\n",
       "      <th></th>\n",
       "      <th></th>\n",
       "      <th></th>\n",
       "      <th></th>\n",
       "      <th></th>\n",
       "      <th></th>\n",
       "      <th></th>\n",
       "      <th></th>\n",
       "      <th></th>\n",
       "      <th></th>\n",
       "      <th></th>\n",
       "      <th></th>\n",
       "      <th></th>\n",
       "      <th></th>\n",
       "      <th></th>\n",
       "      <th></th>\n",
       "    </tr>\n",
       "  </thead>\n",
       "  <tbody>\n",
       "    <tr>\n",
       "      <th rowspan=\"3\" valign=\"top\">NodeA</th>\n",
       "      <th>0</th>\n",
       "      <td>1.264556</td>\n",
       "      <td>1.944669</td>\n",
       "      <td>1.118274</td>\n",
       "      <td>dSTUT</td>\n",
       "      <td>right</td>\n",
       "      <td>LA</td>\n",
       "      <td>79.915855</td>\n",
       "      <td>hoc:cNAC_L23BTC</td>\n",
       "      <td>biophysical</td>\n",
       "      <td>PYR</td>\n",
       "      <td>...</td>\n",
       "      <td>L4_PC</td>\n",
       "      <td>-0.233117</td>\n",
       "      <td>0.136089</td>\n",
       "      <td>-0.825741</td>\n",
       "      <td>0.556314</td>\n",
       "      <td>RB</td>\n",
       "      <td>INH</td>\n",
       "      <td>97.627007</td>\n",
       "      <td>89.766365</td>\n",
       "      <td>-124.825577</td>\n",
       "    </tr>\n",
       "    <tr>\n",
       "      <th>1</th>\n",
       "      <td>1.774234</td>\n",
       "      <td>1.521848</td>\n",
       "      <td>1.639921</td>\n",
       "      <td>dSTUT</td>\n",
       "      <td>right</td>\n",
       "      <td>LB</td>\n",
       "      <td>46.147938</td>\n",
       "      <td>hoc:cNAC_L23BTC</td>\n",
       "      <td>biophysical</td>\n",
       "      <td>PYR</td>\n",
       "      <td>...</td>\n",
       "      <td>L4_MC</td>\n",
       "      <td>0.583450</td>\n",
       "      <td>0.851193</td>\n",
       "      <td>-0.959563</td>\n",
       "      <td>0.740024</td>\n",
       "      <td>RB</td>\n",
       "      <td>EXC</td>\n",
       "      <td>430.378723</td>\n",
       "      <td>-152.690399</td>\n",
       "      <td>783.546021</td>\n",
       "    </tr>\n",
       "    <tr>\n",
       "      <th>2</th>\n",
       "      <td>1.456150</td>\n",
       "      <td>1.414662</td>\n",
       "      <td>1.143353</td>\n",
       "      <td>dNAC</td>\n",
       "      <td>left</td>\n",
       "      <td>LB</td>\n",
       "      <td>78.052917</td>\n",
       "      <td>hoc:cADpyr_L2TPC</td>\n",
       "      <td>biophysical</td>\n",
       "      <td>PYR</td>\n",
       "      <td>...</td>\n",
       "      <td>L4_MC</td>\n",
       "      <td>0.057790</td>\n",
       "      <td>-0.857928</td>\n",
       "      <td>0.665240</td>\n",
       "      <td>0.957237</td>\n",
       "      <td>RB</td>\n",
       "      <td>INH</td>\n",
       "      <td>205.526749</td>\n",
       "      <td>291.788239</td>\n",
       "      <td>927.325500</td>\n",
       "    </tr>\n",
       "  </tbody>\n",
       "</table>\n",
       "<p>3 rows × 21 columns</p>\n",
       "</div>"
      ],
      "text/plain": [
       "                     @dynamics:AIS_scaler  @dynamics:holding_current  \\\n",
       "population node_ids                                                    \n",
       "NodeA      0                     1.264556                   1.944669   \n",
       "           1                     1.774234                   1.521848   \n",
       "           2                     1.456150                   1.414662   \n",
       "\n",
       "                     @dynamics:threshold_current  etype hemisphere layer  \\\n",
       "population node_ids                                                        \n",
       "NodeA      0                            1.118274  dSTUT      right    LA   \n",
       "           1                            1.639921  dSTUT      right    LB   \n",
       "           2                            1.143353   dNAC       left    LB   \n",
       "\n",
       "                         minis    model_template   model_type morph_class  \\\n",
       "population node_ids                                                         \n",
       "NodeA      0         79.915855   hoc:cNAC_L23BTC  biophysical         PYR   \n",
       "           1         46.147938   hoc:cNAC_L23BTC  biophysical         PYR   \n",
       "           2         78.052917  hoc:cADpyr_L2TPC  biophysical         PYR   \n",
       "\n",
       "                     ...  mtype orientation_w  orientation_x  orientation_y  \\\n",
       "population node_ids  ...                                                      \n",
       "NodeA      0         ...  L4_PC     -0.233117       0.136089      -0.825741   \n",
       "           1         ...  L4_MC      0.583450       0.851193      -0.959563   \n",
       "           2         ...  L4_MC      0.057790      -0.857928       0.665240   \n",
       "\n",
       "                     orientation_z  region synapse_class           x  \\\n",
       "population node_ids                                                    \n",
       "NodeA      0              0.556314      RB           INH   97.627007   \n",
       "           1              0.740024      RB           EXC  430.378723   \n",
       "           2              0.957237      RB           INH  205.526749   \n",
       "\n",
       "                              y           z  \n",
       "population node_ids                          \n",
       "NodeA      0          89.766365 -124.825577  \n",
       "           1        -152.690399  783.546021  \n",
       "           2         291.788239  927.325500  \n",
       "\n",
       "[3 rows x 21 columns]"
      ]
     },
     "execution_count": 14,
     "metadata": {},
     "output_type": "execute_result"
    }
   ],
   "source": [
    "pd.concat([x[1] for x in snap_access.circuit.nodes.get(\"Mosaic_A\")])"
   ]
  },
  {
   "attachments": {},
   "cell_type": "markdown",
   "metadata": {},
   "source": [
    "Below are all of the populations. There are 2 populations namely NodeA and NodeB. \n",
    "\n",
    "In the SONATA format, nodes in each population start from index 0. \n",
    "\n",
    "When we are working with a multi population simulation, the unique cell identifier is the composite key of `(population, node_id)`.\n",
    "\n",
    "This allows us to connect various SONATA nodes in any order. E.g. one can connect the SomatosensoralCortex circuit to the Thalamus circuit without having to worry about the order since there will be no conflict in the cell identifiers."
   ]
  },
  {
   "cell_type": "code",
   "execution_count": 15,
   "metadata": {},
   "outputs": [
    {
     "data": {
      "text/html": [
       "<div>\n",
       "<style scoped>\n",
       "    .dataframe tbody tr th:only-of-type {\n",
       "        vertical-align: middle;\n",
       "    }\n",
       "\n",
       "    .dataframe tbody tr th {\n",
       "        vertical-align: top;\n",
       "    }\n",
       "\n",
       "    .dataframe thead th {\n",
       "        text-align: right;\n",
       "    }\n",
       "</style>\n",
       "<table border=\"1\" class=\"dataframe\">\n",
       "  <thead>\n",
       "    <tr style=\"text-align: right;\">\n",
       "      <th></th>\n",
       "      <th></th>\n",
       "      <th>@dynamics:AIS_scaler</th>\n",
       "      <th>@dynamics:holding_current</th>\n",
       "      <th>@dynamics:threshold_current</th>\n",
       "      <th>etype</th>\n",
       "      <th>hemisphere</th>\n",
       "      <th>layer</th>\n",
       "      <th>minis</th>\n",
       "      <th>model_template</th>\n",
       "      <th>model_type</th>\n",
       "      <th>morph_class</th>\n",
       "      <th>...</th>\n",
       "      <th>mtype</th>\n",
       "      <th>orientation_w</th>\n",
       "      <th>orientation_x</th>\n",
       "      <th>orientation_y</th>\n",
       "      <th>orientation_z</th>\n",
       "      <th>region</th>\n",
       "      <th>synapse_class</th>\n",
       "      <th>x</th>\n",
       "      <th>y</th>\n",
       "      <th>z</th>\n",
       "    </tr>\n",
       "    <tr>\n",
       "      <th>population</th>\n",
       "      <th>node_ids</th>\n",
       "      <th></th>\n",
       "      <th></th>\n",
       "      <th></th>\n",
       "      <th></th>\n",
       "      <th></th>\n",
       "      <th></th>\n",
       "      <th></th>\n",
       "      <th></th>\n",
       "      <th></th>\n",
       "      <th></th>\n",
       "      <th></th>\n",
       "      <th></th>\n",
       "      <th></th>\n",
       "      <th></th>\n",
       "      <th></th>\n",
       "      <th></th>\n",
       "      <th></th>\n",
       "      <th></th>\n",
       "      <th></th>\n",
       "      <th></th>\n",
       "      <th></th>\n",
       "    </tr>\n",
       "  </thead>\n",
       "  <tbody>\n",
       "    <tr>\n",
       "      <th rowspan=\"3\" valign=\"top\">NodeA</th>\n",
       "      <th>0</th>\n",
       "      <td>1.264556</td>\n",
       "      <td>1.944669</td>\n",
       "      <td>1.118274</td>\n",
       "      <td>dSTUT</td>\n",
       "      <td>right</td>\n",
       "      <td>LA</td>\n",
       "      <td>79.915855</td>\n",
       "      <td>hoc:cNAC_L23BTC</td>\n",
       "      <td>biophysical</td>\n",
       "      <td>PYR</td>\n",
       "      <td>...</td>\n",
       "      <td>L4_PC</td>\n",
       "      <td>-0.233117</td>\n",
       "      <td>0.136089</td>\n",
       "      <td>-0.825741</td>\n",
       "      <td>0.556314</td>\n",
       "      <td>RB</td>\n",
       "      <td>INH</td>\n",
       "      <td>97.627007</td>\n",
       "      <td>89.766365</td>\n",
       "      <td>-124.825577</td>\n",
       "    </tr>\n",
       "    <tr>\n",
       "      <th>1</th>\n",
       "      <td>1.774234</td>\n",
       "      <td>1.521848</td>\n",
       "      <td>1.639921</td>\n",
       "      <td>dSTUT</td>\n",
       "      <td>right</td>\n",
       "      <td>LB</td>\n",
       "      <td>46.147938</td>\n",
       "      <td>hoc:cNAC_L23BTC</td>\n",
       "      <td>biophysical</td>\n",
       "      <td>PYR</td>\n",
       "      <td>...</td>\n",
       "      <td>L4_MC</td>\n",
       "      <td>0.583450</td>\n",
       "      <td>0.851193</td>\n",
       "      <td>-0.959563</td>\n",
       "      <td>0.740024</td>\n",
       "      <td>RB</td>\n",
       "      <td>EXC</td>\n",
       "      <td>430.378723</td>\n",
       "      <td>-152.690399</td>\n",
       "      <td>783.546021</td>\n",
       "    </tr>\n",
       "    <tr>\n",
       "      <th>2</th>\n",
       "      <td>1.456150</td>\n",
       "      <td>1.414662</td>\n",
       "      <td>1.143353</td>\n",
       "      <td>dNAC</td>\n",
       "      <td>left</td>\n",
       "      <td>LB</td>\n",
       "      <td>78.052917</td>\n",
       "      <td>hoc:cADpyr_L2TPC</td>\n",
       "      <td>biophysical</td>\n",
       "      <td>PYR</td>\n",
       "      <td>...</td>\n",
       "      <td>L4_MC</td>\n",
       "      <td>0.057790</td>\n",
       "      <td>-0.857928</td>\n",
       "      <td>0.665240</td>\n",
       "      <td>0.957237</td>\n",
       "      <td>RB</td>\n",
       "      <td>INH</td>\n",
       "      <td>205.526749</td>\n",
       "      <td>291.788239</td>\n",
       "      <td>927.325500</td>\n",
       "    </tr>\n",
       "    <tr>\n",
       "      <th rowspan=\"2\" valign=\"top\">NodeB</th>\n",
       "      <th>0</th>\n",
       "      <td>1.837945</td>\n",
       "      <td>1.820993</td>\n",
       "      <td>1.196582</td>\n",
       "      <td>dSTUT</td>\n",
       "      <td>right</td>\n",
       "      <td>LC</td>\n",
       "      <td>65.632957</td>\n",
       "      <td>hoc:bAC_IN</td>\n",
       "      <td>biophysical</td>\n",
       "      <td>INT</td>\n",
       "      <td>...</td>\n",
       "      <td>L4_PC</td>\n",
       "      <td>-0.582246</td>\n",
       "      <td>0.306217</td>\n",
       "      <td>-0.067378</td>\n",
       "      <td>-0.682061</td>\n",
       "      <td>RB</td>\n",
       "      <td>EXC</td>\n",
       "      <td>-369.143311</td>\n",
       "      <td>140.393539</td>\n",
       "      <td>976.747681</td>\n",
       "    </tr>\n",
       "    <tr>\n",
       "      <th>1</th>\n",
       "      <td>1.096098</td>\n",
       "      <td>1.097101</td>\n",
       "      <td>1.368725</td>\n",
       "      <td>dSTUT</td>\n",
       "      <td>right</td>\n",
       "      <td>LC</td>\n",
       "      <td>13.818295</td>\n",
       "      <td>hoc:bAC_IN</td>\n",
       "      <td>biophysical</td>\n",
       "      <td>PYR</td>\n",
       "      <td>...</td>\n",
       "      <td>L5_PC</td>\n",
       "      <td>-0.677381</td>\n",
       "      <td>-0.493417</td>\n",
       "      <td>-0.511149</td>\n",
       "      <td>-0.779250</td>\n",
       "      <td>RA</td>\n",
       "      <td>EXC</td>\n",
       "      <td>-272.578461</td>\n",
       "      <td>-122.796974</td>\n",
       "      <td>-795.910400</td>\n",
       "    </tr>\n",
       "  </tbody>\n",
       "</table>\n",
       "<p>5 rows × 21 columns</p>\n",
       "</div>"
      ],
      "text/plain": [
       "                     @dynamics:AIS_scaler  @dynamics:holding_current  \\\n",
       "population node_ids                                                    \n",
       "NodeA      0                     1.264556                   1.944669   \n",
       "           1                     1.774234                   1.521848   \n",
       "           2                     1.456150                   1.414662   \n",
       "NodeB      0                     1.837945                   1.820993   \n",
       "           1                     1.096098                   1.097101   \n",
       "\n",
       "                     @dynamics:threshold_current  etype hemisphere layer  \\\n",
       "population node_ids                                                        \n",
       "NodeA      0                            1.118274  dSTUT      right    LA   \n",
       "           1                            1.639921  dSTUT      right    LB   \n",
       "           2                            1.143353   dNAC       left    LB   \n",
       "NodeB      0                            1.196582  dSTUT      right    LC   \n",
       "           1                            1.368725  dSTUT      right    LC   \n",
       "\n",
       "                         minis    model_template   model_type morph_class  \\\n",
       "population node_ids                                                         \n",
       "NodeA      0         79.915855   hoc:cNAC_L23BTC  biophysical         PYR   \n",
       "           1         46.147938   hoc:cNAC_L23BTC  biophysical         PYR   \n",
       "           2         78.052917  hoc:cADpyr_L2TPC  biophysical         PYR   \n",
       "NodeB      0         65.632957        hoc:bAC_IN  biophysical         INT   \n",
       "           1         13.818295        hoc:bAC_IN  biophysical         PYR   \n",
       "\n",
       "                     ...  mtype orientation_w  orientation_x  orientation_y  \\\n",
       "population node_ids  ...                                                      \n",
       "NodeA      0         ...  L4_PC     -0.233117       0.136089      -0.825741   \n",
       "           1         ...  L4_MC      0.583450       0.851193      -0.959563   \n",
       "           2         ...  L4_MC      0.057790      -0.857928       0.665240   \n",
       "NodeB      0         ...  L4_PC     -0.582246       0.306217      -0.067378   \n",
       "           1         ...  L5_PC     -0.677381      -0.493417      -0.511149   \n",
       "\n",
       "                     orientation_z  region synapse_class           x  \\\n",
       "population node_ids                                                    \n",
       "NodeA      0              0.556314      RB           INH   97.627007   \n",
       "           1              0.740024      RB           EXC  430.378723   \n",
       "           2              0.957237      RB           INH  205.526749   \n",
       "NodeB      0             -0.682061      RB           EXC -369.143311   \n",
       "           1             -0.779250      RA           EXC -272.578461   \n",
       "\n",
       "                              y           z  \n",
       "population node_ids                          \n",
       "NodeA      0          89.766365 -124.825577  \n",
       "           1        -152.690399  783.546021  \n",
       "           2         291.788239  927.325500  \n",
       "NodeB      0         140.393539  976.747681  \n",
       "           1        -122.796974 -795.910400  \n",
       "\n",
       "[5 rows x 21 columns]"
      ]
     },
     "execution_count": 15,
     "metadata": {},
     "output_type": "execute_result"
    }
   ],
   "source": [
    "all_nodes = pd.concat([x[1] for x in snap_access.circuit.nodes.get()])\n",
    "all_nodes"
   ]
  },
  {
   "attachments": {},
   "cell_type": "markdown",
   "metadata": {},
   "source": [
    "Below we select all of the cells of `dSTUT` (delayed stuttering) etype."
   ]
  },
  {
   "cell_type": "code",
   "execution_count": 16,
   "metadata": {},
   "outputs": [
    {
     "data": {
      "text/plain": [
       "[('NodeA', 0), ('NodeA', 1), ('NodeB', 0), ('NodeB', 1)]"
      ]
     },
     "execution_count": 16,
     "metadata": {},
     "output_type": "execute_result"
    }
   ],
   "source": [
    "dstut_cells = all_nodes[all_nodes[\"etype\"] == \"dSTUT\"].index.to_list()\n",
    "dstut_cells"
   ]
  },
  {
   "attachments": {},
   "cell_type": "markdown",
   "metadata": {},
   "source": [
    "We initialise the simulation with the dSTUT cells, enabling stimuli and synapses, and runs it for 50 ms."
   ]
  },
  {
   "cell_type": "code",
   "execution_count": 17,
   "metadata": {},
   "outputs": [],
   "source": [
    "sim.instantiate_gids(dstut_cells, add_stimuli=True, add_synapses=True)\n",
    "t_stop = 50.0\n",
    "sim.run(t_stop)"
   ]
  },
  {
   "attachments": {},
   "cell_type": "markdown",
   "metadata": {},
   "source": [
    "We can then create and visualize the graph that shows the synaptic strengths between dSTUT cells in our NodeA and NodeB populations, offering insights into their neural connectivity."
   ]
  },
  {
   "cell_type": "code",
   "execution_count": 20,
   "metadata": {},
   "outputs": [
    {
     "data": {
      "image/png": "[encoded data removed]",
      "text/plain": [
       "<Figure size 600x500 with 2 Axes>"
      ]
     },
     "metadata": {},
     "output_type": "display_data"
    }
   ],
   "source": [
    "G = build_graph(sim.cells)\n",
    "plt = plot_graph(G, node_size=500, edge_width=0.6, node_distance=1.8)\n",
    "plt.savefig(\"ex2_sonatagraph.pdf\")\n",
    "plt.show()\n"
   ]
  },
  {
   "attachments": {},
   "cell_type": "markdown",
   "metadata": {},
   "source": [
    "Finally, we can plot the voltage traces for each cell in the simulation."
   ]
  },
  {
   "cell_type": "code",
   "execution_count": 19,
   "metadata": {},
   "outputs": [
    {
     "data": {
      "image/png": "[encoded data removed]",
      "text/plain": [
       "<Figure size 1000x600 with 1 Axes>"
      ]
     },
     "metadata": {},
     "output_type": "display_data"
    }
   ],
   "source": [
    "# Define the figure size\n",
    "plt.figure(figsize=(10, 6))\n",
    "for cell_id in sim.cells:\n",
    "    # Get the voltage trace\n",
    "    time = sim.get_time_trace()\n",
    "    voltage = sim.get_voltage_trace(cell_id)\n",
    "    plt.plot(time, voltage, label=cell_id)\n",
    "    plt.legend()\n",
    "    plt.xlabel(\"Time (ms)\")\n",
    "    plt.ylabel(\"Voltage (mV)\")\n"
   ]
  },
  {
   "attachments": {},
   "cell_type": "markdown",
   "metadata": {},
   "source": [
    "The figure shows that from all dSTUT cells, only the cells of NodeA population are affected by the Hyperpolarizing input."
   ]
  }
 ],
 "metadata": {
  "kernelspec": {
   "display_name": "Python 3 (ipykernel)",
   "language": "python",
   "name": "python3"
  },
  "language_info": {
   "codemirror_mode": {
    "name": "ipython",
    "version": 3
   },
   "file_extension": ".py",
   "mimetype": "text/x-python",
   "name": "python",
   "nbconvert_exporter": "python",
   "pygments_lexer": "ipython3",
   "version": "3.11.6"
  }
 },
 "nbformat": 4,
 "nbformat_minor": 4
}
